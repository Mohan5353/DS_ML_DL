{
  "metadata": {
    "kernelspec": {
      "display_name": "Python 3",
      "name": "python3"
    },
    "language_info": {
      "name": "python",
      "version": "3.10.12",
      "mimetype": "text/x-python",
      "codemirror_mode": {
        "name": "ipython",
        "version": 3
      },
      "pygments_lexer": "ipython3",
      "nbconvert_exporter": "python",
      "file_extension": ".py"
    },
    "kaggle": {
      "accelerator": "nvidiaTeslaT4",
      "dataSources": [],
      "isInternetEnabled": true,
      "language": "python",
      "sourceType": "notebook",
      "isGpuEnabled": true
    },
    "colab": {
      "provenance": [],
      "gpuType": "T4",
      "include_colab_link": true
    },
    "accelerator": "GPU"
  },
  "nbformat_minor": 0,
  "nbformat": 4,
  "cells": [
    {
      "cell_type": "markdown",
      "metadata": {
        "id": "view-in-github",
        "colab_type": "text"
      },
      "source": [
        "<a href=\"https://colab.research.google.com/github/Mohan5353/DS_ML_DL/blob/main/transfer_learning.ipynb\" target=\"_parent\"><img src=\"https://colab.research.google.com/assets/colab-badge.svg\" alt=\"Open In Colab\"/></a>"
      ]
    },
    {
      "cell_type": "code",
      "source": [
        "import tensorflow as tf\n",
        "import tensorflow_datasets as tfds\n",
        "from pprint import pprint"
      ],
      "metadata": {
        "_uuid": "8f2839f25d086af736a60e9eeb907d3b93b6e0e5",
        "_cell_guid": "b1076dfc-b9ad-4769-8c92-a6c4dae69d19",
        "execution": {
          "iopub.status.busy": "2024-01-21T18:24:36.135339Z",
          "iopub.execute_input": "2024-01-21T18:24:36.135751Z",
          "iopub.status.idle": "2024-01-21T18:24:36.140588Z",
          "shell.execute_reply.started": "2024-01-21T18:24:36.135719Z",
          "shell.execute_reply": "2024-01-21T18:24:36.139486Z"
        },
        "trusted": true,
        "id": "srH9SfCmZLpE"
      },
      "execution_count": 1,
      "outputs": []
    },
    {
      "cell_type": "code",
      "source": [
        "ds,info=tfds.load(\"tf_flowers\",as_supervised=True,with_info=True)"
      ],
      "metadata": {
        "execution": {
          "iopub.status.busy": "2024-01-21T18:26:07.484722Z",
          "iopub.execute_input": "2024-01-21T18:26:07.485699Z",
          "iopub.status.idle": "2024-01-21T18:26:07.542885Z",
          "shell.execute_reply.started": "2024-01-21T18:26:07.485654Z",
          "shell.execute_reply": "2024-01-21T18:26:07.542033Z"
        },
        "trusted": true,
        "id": "TE5yMhipZLpH"
      },
      "execution_count": 2,
      "outputs": []
    },
    {
      "cell_type": "code",
      "source": [
        "pprint(info)"
      ],
      "metadata": {
        "execution": {
          "iopub.status.busy": "2024-01-21T18:24:46.279546Z",
          "iopub.execute_input": "2024-01-21T18:24:46.279953Z",
          "iopub.status.idle": "2024-01-21T18:24:46.285632Z",
          "shell.execute_reply.started": "2024-01-21T18:24:46.279920Z",
          "shell.execute_reply": "2024-01-21T18:24:46.284654Z"
        },
        "trusted": true,
        "colab": {
          "base_uri": "https://localhost:8080/"
        },
        "id": "nDFxHXOVZLpI",
        "outputId": "ea693615-1332-4559-d4d9-1d151b226716"
      },
      "execution_count": 3,
      "outputs": [
        {
          "output_type": "stream",
          "name": "stdout",
          "text": [
            "tfds.core.DatasetInfo(\n",
            "    name='tf_flowers',\n",
            "    full_name='tf_flowers/3.0.1',\n",
            "    description=\"\"\"\n",
            "    A large set of images of flowers\n",
            "    \"\"\",\n",
            "    homepage='https://www.tensorflow.org/tutorials/load_data/images',\n",
            "    data_dir='/root/tensorflow_datasets/tf_flowers/3.0.1',\n",
            "    file_format=tfrecord,\n",
            "    download_size=218.21 MiB,\n",
            "    dataset_size=221.83 MiB,\n",
            "    features=FeaturesDict({\n",
            "        'image': Image(shape=(None, None, 3), dtype=uint8),\n",
            "        'label': ClassLabel(shape=(), dtype=int64, num_classes=5),\n",
            "    }),\n",
            "    supervised_keys=('image', 'label'),\n",
            "    disable_shuffling=False,\n",
            "    splits={\n",
            "        'train': <SplitInfo num_examples=3670, num_shards=2>,\n",
            "    },\n",
            "    citation=\"\"\"@ONLINE {tfflowers,\n",
            "    author = \"The TensorFlow Team\",\n",
            "    title = \"Flowers\",\n",
            "    month = \"jan\",\n",
            "    year = \"2019\",\n",
            "    url = \"http://download.tensorflow.org/example_images/flower_photos.tgz\" }\"\"\",\n",
            ")\n"
          ]
        }
      ]
    },
    {
      "cell_type": "code",
      "source": [
        "dataset_size = info.splits[\"train\"].num_examples\n",
        "class_names = info.features[\"label\"].names\n",
        "n_classes = info. features[\"label\"].num_classes"
      ],
      "metadata": {
        "execution": {
          "iopub.status.busy": "2024-01-21T18:53:11.951290Z",
          "iopub.execute_input": "2024-01-21T18:53:11.952303Z",
          "iopub.status.idle": "2024-01-21T18:53:11.957239Z",
          "shell.execute_reply.started": "2024-01-21T18:53:11.952266Z",
          "shell.execute_reply": "2024-01-21T18:53:11.956183Z"
        },
        "trusted": true,
        "id": "3-NmuQBWZLpK"
      },
      "execution_count": 4,
      "outputs": []
    },
    {
      "cell_type": "code",
      "source": [
        "test_ds, valid_ds, train_ds = tfds.load(\"tf_flowers\", split=[\"train[:10%]\", \"train[10%:25%]\", \"train[25%:]\"], as_supervised=True)"
      ],
      "metadata": {
        "execution": {
          "iopub.status.busy": "2024-01-21T18:56:54.151033Z",
          "iopub.execute_input": "2024-01-21T18:56:54.151923Z",
          "iopub.status.idle": "2024-01-21T18:56:54.306105Z",
          "shell.execute_reply.started": "2024-01-21T18:56:54.151892Z",
          "shell.execute_reply": "2024-01-21T18:56:54.305204Z"
        },
        "trusted": true,
        "id": "UvAaTTEHZLpL"
      },
      "execution_count": 5,
      "outputs": []
    },
    {
      "cell_type": "code",
      "source": [
        "def preprocess(image,label):\n",
        "    resized_image=tf.image.resize(image,[224,224])\n",
        "    result=tf.keras.applications.xception.preprocess_input(resized_image)\n",
        "    return result,label"
      ],
      "metadata": {
        "execution": {
          "iopub.status.busy": "2024-01-21T18:55:26.831035Z",
          "iopub.execute_input": "2024-01-21T18:55:26.831791Z",
          "iopub.status.idle": "2024-01-21T18:55:26.836435Z",
          "shell.execute_reply.started": "2024-01-21T18:55:26.831748Z",
          "shell.execute_reply": "2024-01-21T18:55:26.835465Z"
        },
        "trusted": true,
        "id": "GJmah1OnZLpL"
      },
      "execution_count": 6,
      "outputs": []
    },
    {
      "cell_type": "code",
      "source": [
        "batch_size = 32\n",
        "train_ds = train_ds.shuffle(1000)\n",
        "train_ds = train_ds.map(preprocess).batch(batch_size).prefetch(1)\n",
        "valid_ds = valid_ds.map(preprocess).batch(batch_size).prefetch(1)\n",
        "test_ds = test_ds.map(preprocess).batch(batch_size).prefetch(1)"
      ],
      "metadata": {
        "execution": {
          "iopub.status.busy": "2024-01-21T18:57:03.100953Z",
          "iopub.execute_input": "2024-01-21T18:57:03.101808Z",
          "iopub.status.idle": "2024-01-21T18:57:03.512781Z",
          "shell.execute_reply.started": "2024-01-21T18:57:03.101774Z",
          "shell.execute_reply": "2024-01-21T18:57:03.510914Z"
        },
        "trusted": true,
        "id": "S0tJt6etZLpM"
      },
      "execution_count": 7,
      "outputs": []
    },
    {
      "cell_type": "code",
      "source": [
        "base_model=tf.keras.applications.xception.Xception(weights=\"imagenet\",include_top=False)\n",
        "avg_layer=tf.keras.layers.GlobalAveragePooling2D()(base_model.output)\n",
        "output=tf.keras.layers.Dense(n_classes,activation=\"softmax\")(avg_layer)\n",
        "model=tf.keras.Model(inputs=base_model.input,outputs=output)"
      ],
      "metadata": {
        "id": "3Tvc5x7iZLpM"
      },
      "execution_count": 8,
      "outputs": []
    },
    {
      "cell_type": "code",
      "source": [
        "for layer in base_model.layers:\n",
        "  layer.training=False"
      ],
      "metadata": {
        "id": "kGiq87P6cNaU"
      },
      "execution_count": 9,
      "outputs": []
    },
    {
      "cell_type": "code",
      "source": [
        "optimizer=tf.keras.optimizers.legacy.SGD(learning_rate=0.05,momentum=0.9,decay=0.01)\n",
        "model.compile(optimizer=optimizer,loss=\"sparse_categorical_crossentropy\",metrics=[\"accuracy\",\"mse\"])\n",
        "history=model.fit(train_ds,epochs=5,validation_data=valid_ds)"
      ],
      "metadata": {
        "colab": {
          "base_uri": "https://localhost:8080/"
        },
        "id": "_JMDNYZPcszw",
        "outputId": "5fa2253c-ff6b-4401-e06f-21faacd4fb87"
      },
      "execution_count": 10,
      "outputs": [
        {
          "output_type": "stream",
          "name": "stdout",
          "text": [
            "Epoch 1/5\n",
            "86/86 [==============================] - 59s 507ms/step - loss: 0.5946 - accuracy: 0.7965 - mse: 4.9520 - val_loss: 4.6500 - val_accuracy: 0.5009 - val_mse: 4.9513\n",
            "Epoch 2/5\n",
            "86/86 [==============================] - 42s 485ms/step - loss: 0.2452 - accuracy: 0.9117 - mse: 4.9852 - val_loss: 0.9534 - val_accuracy: 0.7858 - val_mse: 4.9519\n",
            "Epoch 3/5\n",
            "86/86 [==============================] - 42s 486ms/step - loss: 0.1125 - accuracy: 0.9677 - mse: 4.9972 - val_loss: 0.2480 - val_accuracy: 0.9074 - val_mse: 4.9492\n",
            "Epoch 4/5\n",
            "86/86 [==============================] - 42s 488ms/step - loss: 0.0475 - accuracy: 0.9840 - mse: 5.0027 - val_loss: 0.2574 - val_accuracy: 0.9129 - val_mse: 4.9528\n",
            "Epoch 5/5\n",
            "86/86 [==============================] - 42s 487ms/step - loss: 0.0161 - accuracy: 0.9964 - mse: 5.0060 - val_loss: 0.2458 - val_accuracy: 0.9310 - val_mse: 4.9572\n"
          ]
        }
      ]
    },
    {
      "cell_type": "code",
      "source": [
        "for layer in base_model.layers:\n",
        "  layer.training=True"
      ],
      "metadata": {
        "id": "hp6TlreucooT"
      },
      "execution_count": 11,
      "outputs": []
    },
    {
      "cell_type": "code",
      "source": [
        "optimizer=tf.keras.optimizers.legacy.SGD(learning_rate=0.01,momentum=0.9,decay=0.001)\n",
        "model.compile(optimizer=optimizer,loss=\"sparse_categorical_crossentropy\",metrics=[\"accuracy\",\"mse\"])\n",
        "history=model.fit(train_ds,epochs=20,validation_data=valid_ds)"
      ],
      "metadata": {
        "colab": {
          "base_uri": "https://localhost:8080/"
        },
        "id": "STc36e-vepRk",
        "outputId": "5c8d2945-793e-48a6-b2df-073b1f2cfc8d"
      },
      "execution_count": null,
      "outputs": [
        {
          "output_type": "stream",
          "name": "stdout",
          "text": [
            "Epoch 1/20\n",
            "20/86 [=====>........................] - ETA: 29s - loss: 0.0063 - accuracy: 0.9984 - mse: 4.9108"
          ]
        }
      ]
    },
    {
      "cell_type": "code",
      "source": [],
      "metadata": {
        "id": "XYgInLrCfBXH"
      },
      "execution_count": null,
      "outputs": []
    }
  ]
}