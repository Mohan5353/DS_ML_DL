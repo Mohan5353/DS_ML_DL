{
 "cells": [
  {
   "cell_type": "code",
   "execution_count": 1,
   "id": "96b05f2b",
   "metadata": {
    "execution": {
     "iopub.execute_input": "2024-02-27T18:18:12.031483Z",
     "iopub.status.busy": "2024-02-27T18:18:12.031151Z",
     "iopub.status.idle": "2024-02-27T18:18:25.274883Z",
     "shell.execute_reply": "2024-02-27T18:18:25.273793Z"
    },
    "papermill": {
     "duration": 13.253206,
     "end_time": "2024-02-27T18:18:25.277327",
     "exception": false,
     "start_time": "2024-02-27T18:18:12.024121",
     "status": "completed"
    },
    "tags": []
   },
   "outputs": [
    {
     "name": "stdout",
     "output_type": "stream",
     "text": [
      "Collecting keract\r\n",
      "  Downloading keract-4.5.1-py3-none-any.whl.metadata (9.8 kB)\r\n",
      "Downloading keract-4.5.1-py3-none-any.whl (12 kB)\r\n",
      "Installing collected packages: keract\r\n",
      "Successfully installed keract-4.5.1\r\n"
     ]
    }
   ],
   "source": [
    "!pip install keract"
   ]
  },
  {
   "cell_type": "code",
   "execution_count": 2,
   "id": "0065fcb8",
   "metadata": {
    "_cell_guid": "b1076dfc-b9ad-4769-8c92-a6c4dae69d19",
    "_uuid": "8f2839f25d086af736a60e9eeb907d3b93b6e0e5",
    "execution": {
     "iopub.execute_input": "2024-02-27T18:18:25.290090Z",
     "iopub.status.busy": "2024-02-27T18:18:25.289791Z",
     "iopub.status.idle": "2024-02-27T18:18:39.469479Z",
     "shell.execute_reply": "2024-02-27T18:18:39.468610Z"
    },
    "papermill": {
     "duration": 14.18852,
     "end_time": "2024-02-27T18:18:39.471802",
     "exception": false,
     "start_time": "2024-02-27T18:18:25.283282",
     "status": "completed"
    },
    "tags": []
   },
   "outputs": [
    {
     "name": "stderr",
     "output_type": "stream",
     "text": [
      "2024-02-27 18:18:29.124588: E external/local_xla/xla/stream_executor/cuda/cuda_dnn.cc:9261] Unable to register cuDNN factory: Attempting to register factory for plugin cuDNN when one has already been registered\n",
      "2024-02-27 18:18:29.124716: E external/local_xla/xla/stream_executor/cuda/cuda_fft.cc:607] Unable to register cuFFT factory: Attempting to register factory for plugin cuFFT when one has already been registered\n",
      "2024-02-27 18:18:29.248557: E external/local_xla/xla/stream_executor/cuda/cuda_blas.cc:1515] Unable to register cuBLAS factory: Attempting to register factory for plugin cuBLAS when one has already been registered\n"
     ]
    }
   ],
   "source": [
    "import os\n",
    "from glob import glob\n",
    "import pandas as pd\n",
    "import numpy as np\n",
    "from numpy import expand_dims\n",
    "import matplotlib.pyplot as plt\n",
    "import matplotlib.image as mpimg\n",
    "import seaborn as sn\n",
    "from skimage.transform import resize\n",
    "from skimage.color import gray2rgb\n",
    "from sklearn.metrics import classification_report, confusion_matrix\n",
    "from IPython.display import SVG\n",
    "# import keract\n",
    "from tensorflow import keras\n",
    "from tensorflow.keras import applications, optimizers\n",
    "from tensorflow.keras.models import Model, Sequential, load_model\n",
    "from tensorflow.keras.preprocessing.image import ImageDataGenerator, load_img, img_to_array\n",
    "from tensorflow.keras.layers import Dense, Flatten, Dropout\n",
    "from tensorflow.keras.applications.vgg16 import VGG16, preprocess_input\n",
    "from tensorflow.keras.utils import to_categorical, model_to_dot, plot_model\n",
    "from tensorflow.keras.callbacks import ModelCheckpoint, EarlyStopping, CSVLogger, ReduceLROnPlateau"
   ]
  },
  {
   "cell_type": "code",
   "execution_count": 3,
   "id": "0419e763",
   "metadata": {
    "execution": {
     "iopub.execute_input": "2024-02-27T18:18:39.485333Z",
     "iopub.status.busy": "2024-02-27T18:18:39.484367Z",
     "iopub.status.idle": "2024-02-27T18:18:39.488975Z",
     "shell.execute_reply": "2024-02-27T18:18:39.488106Z"
    },
    "papermill": {
     "duration": 0.013139,
     "end_time": "2024-02-27T18:18:39.490835",
     "exception": false,
     "start_time": "2024-02-27T18:18:39.477696",
     "status": "completed"
    },
    "tags": []
   },
   "outputs": [],
   "source": [
    "img_width, img_height = 150, 150 \n",
    "channels = 3\n",
    "batch_size = 32"
   ]
  },
  {
   "cell_type": "code",
   "execution_count": 4,
   "id": "428f8f8b",
   "metadata": {
    "execution": {
     "iopub.execute_input": "2024-02-27T18:18:39.502789Z",
     "iopub.status.busy": "2024-02-27T18:18:39.502503Z",
     "iopub.status.idle": "2024-02-27T18:19:21.047846Z",
     "shell.execute_reply": "2024-02-27T18:19:21.047095Z"
    },
    "papermill": {
     "duration": 41.553676,
     "end_time": "2024-02-27T18:19:21.049957",
     "exception": false,
     "start_time": "2024-02-27T18:18:39.496281",
     "status": "completed"
    },
    "tags": []
   },
   "outputs": [
    {
     "name": "stdout",
     "output_type": "stream",
     "text": [
      "Found 83484 images belonging to 4 classes.\n",
      "Found 32 images belonging to 4 classes.\n",
      "Found 968 images belonging to 4 classes.\n"
     ]
    }
   ],
   "source": [
    "train_path=\"/kaggle/input/kermany2018/OCT2017 /train\"\n",
    "val_path=\"/kaggle/input/kermany2018/OCT2017 /val\"\n",
    "test_path=\"/kaggle/input/kermany2018/OCT2017 /test\"\n",
    "train_datagen = ImageDataGenerator(\n",
    "    rescale= 1./255,\n",
    "    zoom_range= (0.73, 0.9),\n",
    "    horizontal_flip= True,\n",
    "    rotation_range= 10,\n",
    "    width_shift_range= 0.10,\n",
    "    fill_mode= 'constant',\n",
    "    height_shift_range= 0.10,   \n",
    "    brightness_range= (0.55, 0.9)\n",
    ")\n",
    "val_datagen = ImageDataGenerator(\n",
    "    rescale= 1./255, \n",
    ")\n",
    "\n",
    "train_dataset=train_datagen.flow_from_directory(  \n",
    "    train_path,  \n",
    "    target_size= (150, 150), \n",
    "    color_mode= 'rgb',\n",
    "    batch_size= 32,  \n",
    "    class_mode= 'categorical',\n",
    "    shuffle= True, \n",
    "    seed= 1337\n",
    ")\n",
    "val_dataset = val_datagen.flow_from_directory(\n",
    "    val_path,\n",
    "    target_size= (150, 150),\n",
    "    color_mode= 'rgb',\n",
    "    batch_size= 32,  \n",
    "    class_mode= 'categorical',\n",
    "    shuffle= True, \n",
    "    seed= 1337\n",
    ")\n",
    "test_dataset = val_datagen.flow_from_directory(  \n",
    "    test_path,  \n",
    "    target_size= (150, 150), \n",
    "    color_mode= 'rgb',\n",
    "    batch_size= 32,        \n",
    "    class_mode= 'categorical',\n",
    "    shuffle= False, \n",
    ")"
   ]
  },
  {
   "cell_type": "code",
   "execution_count": 5,
   "id": "561572e1",
   "metadata": {
    "execution": {
     "iopub.execute_input": "2024-02-27T18:19:21.065816Z",
     "iopub.status.busy": "2024-02-27T18:19:21.065536Z",
     "iopub.status.idle": "2024-02-27T18:19:21.071821Z",
     "shell.execute_reply": "2024-02-27T18:19:21.071148Z"
    },
    "papermill": {
     "duration": 0.014757,
     "end_time": "2024-02-27T18:19:21.073734",
     "exception": false,
     "start_time": "2024-02-27T18:19:21.058977",
     "status": "completed"
    },
    "tags": []
   },
   "outputs": [],
   "source": [
    "num_classes = len(train_dataset.class_indices)  \n",
    "train_labels = train_dataset.classes \n",
    "train_labels = to_categorical(train_labels, num_classes=num_classes)\n",
    "valid_labels = val_dataset.classes \n",
    "valid_labels = to_categorical(valid_labels, num_classes=num_classes)\n",
    "nb_train_samples = len(train_dataset.filenames)  \n",
    "nb_valid_samples = len(val_dataset.filenames)\n",
    "nb_test_samples = len(test_dataset.filenames)"
   ]
  },
  {
   "cell_type": "code",
   "execution_count": 6,
   "id": "c93d2293",
   "metadata": {
    "execution": {
     "iopub.execute_input": "2024-02-27T18:19:21.086261Z",
     "iopub.status.busy": "2024-02-27T18:19:21.086019Z",
     "iopub.status.idle": "2024-02-27T18:19:24.176096Z",
     "shell.execute_reply": "2024-02-27T18:19:24.175278Z"
    },
    "papermill": {
     "duration": 3.098762,
     "end_time": "2024-02-27T18:19:24.178288",
     "exception": false,
     "start_time": "2024-02-27T18:19:21.079526",
     "status": "completed"
    },
    "tags": []
   },
   "outputs": [],
   "source": [
    "base_model=keras.models.load_model(\"/kaggle/input/oct-3classes/finetuned_model.h5\")"
   ]
  },
  {
   "cell_type": "code",
   "execution_count": 7,
   "id": "6e630655",
   "metadata": {
    "execution": {
     "iopub.execute_input": "2024-02-27T18:19:24.191370Z",
     "iopub.status.busy": "2024-02-27T18:19:24.191065Z",
     "iopub.status.idle": "2024-02-27T18:19:24.349696Z",
     "shell.execute_reply": "2024-02-27T18:19:24.348611Z"
    },
    "papermill": {
     "duration": 0.174046,
     "end_time": "2024-02-27T18:19:24.358409",
     "exception": false,
     "start_time": "2024-02-27T18:19:24.184363",
     "status": "completed"
    },
    "tags": []
   },
   "outputs": [
    {
     "name": "stdout",
     "output_type": "stream",
     "text": [
      "Model: \"sequential\"\n",
      "_________________________________________________________________\n",
      " Layer (type)                Output Shape              Param #   \n",
      "=================================================================\n",
      " block1_conv1 (Conv2D)       (None, 150, 150, 64)      1792      \n",
      "                                                                 \n",
      " block1_conv2 (Conv2D)       (None, 150, 150, 64)      36928     \n",
      "                                                                 \n",
      " block1_pool (MaxPooling2D)  (None, 75, 75, 64)        0         \n",
      "                                                                 \n",
      " block2_conv1 (Conv2D)       (None, 75, 75, 128)       73856     \n",
      "                                                                 \n",
      " block2_conv2 (Conv2D)       (None, 75, 75, 128)       147584    \n",
      "                                                                 \n",
      " block2_pool (MaxPooling2D)  (None, 37, 37, 128)       0         \n",
      "                                                                 \n",
      " block3_conv1 (Conv2D)       (None, 37, 37, 256)       295168    \n",
      "                                                                 \n",
      " block3_conv2 (Conv2D)       (None, 37, 37, 256)       590080    \n",
      "                                                                 \n",
      " block3_conv3 (Conv2D)       (None, 37, 37, 256)       590080    \n",
      "                                                                 \n",
      " block3_pool (MaxPooling2D)  (None, 18, 18, 256)       0         \n",
      "                                                                 \n",
      " block4_conv1 (Conv2D)       (None, 18, 18, 512)       1180160   \n",
      "                                                                 \n",
      " block4_conv2 (Conv2D)       (None, 18, 18, 512)       2359808   \n",
      "                                                                 \n",
      " block4_conv3 (Conv2D)       (None, 18, 18, 512)       2359808   \n",
      "                                                                 \n",
      " block4_pool (MaxPooling2D)  (None, 9, 9, 512)         0         \n",
      "                                                                 \n",
      " block5_conv1 (Conv2D)       (None, 9, 9, 512)         2359808   \n",
      "                                                                 \n",
      " block5_conv2 (Conv2D)       (None, 9, 9, 512)         2359808   \n",
      "                                                                 \n",
      " block5_conv3 (Conv2D)       (None, 9, 9, 512)         2359808   \n",
      "                                                                 \n",
      " block5_pool (MaxPooling2D)  (None, 4, 4, 512)         0         \n",
      "                                                                 \n",
      " flatten (Flatten)           (None, 8192)              0         \n",
      "                                                                 \n",
      " dropout (Dropout)           (None, 8192)              0         \n",
      "                                                                 \n",
      " dense (Dense)               (None, 4)                 32772     \n",
      "                                                                 \n",
      "=================================================================\n",
      "Total params: 14747460 (56.26 MB)\n",
      "Trainable params: 32772 (128.02 KB)\n",
      "Non-trainable params: 14714688 (56.13 MB)\n",
      "_________________________________________________________________\n"
     ]
    }
   ],
   "source": [
    "model=Sequential()\n",
    "for layer in base_model.layers[:-1]:\n",
    "    model.add(layer)\n",
    "model.build(input_shape=(None,150, 150, 3))\n",
    "for layer in model.layers:\n",
    "    layer.trainable= False\n",
    "model.add(Dense(4,activation='softmax'))\n",
    "model.summary()"
   ]
  },
  {
   "cell_type": "code",
   "execution_count": 8,
   "id": "2b31ccb7",
   "metadata": {
    "execution": {
     "iopub.execute_input": "2024-02-27T18:19:24.379186Z",
     "iopub.status.busy": "2024-02-27T18:19:24.378901Z",
     "iopub.status.idle": "2024-02-27T18:19:24.389455Z",
     "shell.execute_reply": "2024-02-27T18:19:24.388781Z"
    },
    "papermill": {
     "duration": 0.022867,
     "end_time": "2024-02-27T18:19:24.391380",
     "exception": false,
     "start_time": "2024-02-27T18:19:24.368513",
     "status": "completed"
    },
    "tags": []
   },
   "outputs": [],
   "source": [
    "model.compile(optimizer= keras.optimizers.Adam(lr= 0.001), loss= 'categorical_crossentropy', metrics= ['accuracy'])"
   ]
  },
  {
   "cell_type": "code",
   "execution_count": 9,
   "id": "cf3a5483",
   "metadata": {
    "execution": {
     "iopub.execute_input": "2024-02-27T18:19:24.412040Z",
     "iopub.status.busy": "2024-02-27T18:19:24.411711Z",
     "iopub.status.idle": "2024-02-27T18:19:24.418045Z",
     "shell.execute_reply": "2024-02-27T18:19:24.417264Z"
    },
    "papermill": {
     "duration": 0.018601,
     "end_time": "2024-02-27T18:19:24.419853",
     "exception": false,
     "start_time": "2024-02-27T18:19:24.401252",
     "status": "completed"
    },
    "tags": []
   },
   "outputs": [],
   "source": [
    "checkpoint = ModelCheckpoint(\n",
    "    'baseline_model.h5',\n",
    "    monitor='val_loss',\n",
    "    verbose=1,\n",
    "    save_best_only=True,\n",
    "    mode='auto',\n",
    "    save_weights_only=False,\n",
    "    period=1\n",
    ")\n",
    "\n",
    "earlystop = EarlyStopping(\n",
    "    monitor='val_loss',\n",
    "    min_delta=0.001,\n",
    "    patience=3,\n",
    "    verbose=1,\n",
    "    mode='auto'\n",
    ")\n",
    "\n",
    "csvlogger = CSVLogger(\n",
    "    filename= \"baseline_training_csv.log\",\n",
    "    separator = \",\",\n",
    "    append = False\n",
    ")\n",
    "\n",
    "reduceLR = ReduceLROnPlateau(\n",
    "    monitor='val_loss',\n",
    "    factor=0.1,\n",
    "    patience=3,\n",
    "    verbose=1, \n",
    "    mode='auto'\n",
    ")\n",
    "\n",
    "callbacks = [checkpoint, earlystop, csvlogger,reduceLR]"
   ]
  },
  {
   "cell_type": "code",
   "execution_count": 10,
   "id": "54e4d219",
   "metadata": {
    "execution": {
     "iopub.execute_input": "2024-02-27T18:19:24.440930Z",
     "iopub.status.busy": "2024-02-27T18:19:24.440663Z",
     "iopub.status.idle": "2024-02-27T20:17:43.622071Z",
     "shell.execute_reply": "2024-02-27T20:17:43.621072Z"
    },
    "papermill": {
     "duration": 7099.203423,
     "end_time": "2024-02-27T20:17:43.633768",
     "exception": false,
     "start_time": "2024-02-27T18:19:24.430345",
     "status": "completed"
    },
    "tags": []
   },
   "outputs": [
    {
     "name": "stdout",
     "output_type": "stream",
     "text": [
      "Epoch 1/10\n"
     ]
    },
    {
     "name": "stderr",
     "output_type": "stream",
     "text": [
      "WARNING: All log messages before absl::InitializeLog() is called are written to STDERR\n",
      "I0000 00:00:1709057970.742023      94 device_compiler.h:186] Compiled cluster using XLA!  This line is logged at most once for the lifetime of the process.\n"
     ]
    },
    {
     "name": "stdout",
     "output_type": "stream",
     "text": [
      "\n",
      "Epoch 1: val_loss improved from inf to 0.01648, saving model to baseline_model.h5\n",
      "2608/2608 - 1072s - loss: 0.1535 - accuracy: 0.9480 - val_loss: 0.0165 - val_accuracy: 1.0000 - lr: 0.0010 - 1072s/epoch - 411ms/step\n",
      "Epoch 2/10\n"
     ]
    },
    {
     "name": "stderr",
     "output_type": "stream",
     "text": [
      "/opt/conda/lib/python3.10/site-packages/keras/src/engine/training.py:3103: UserWarning: You are saving your model as an HDF5 file via `model.save()`. This file format is considered legacy. We recommend using instead the native Keras format, e.g. `model.save('my_model.keras')`.\n",
      "  saving_api.save_model(\n"
     ]
    },
    {
     "name": "stdout",
     "output_type": "stream",
     "text": [
      "\n",
      "Epoch 2: val_loss did not improve from 0.01648\n",
      "2608/2608 - 666s - loss: 0.1333 - accuracy: 0.9552 - val_loss: 0.0305 - val_accuracy: 1.0000 - lr: 0.0010 - 666s/epoch - 255ms/step\n",
      "Epoch 3/10\n",
      "\n",
      "Epoch 3: val_loss improved from 0.01648 to 0.01295, saving model to baseline_model.h5\n",
      "2608/2608 - 663s - loss: 0.1307 - accuracy: 0.9561 - val_loss: 0.0129 - val_accuracy: 1.0000 - lr: 0.0010 - 663s/epoch - 254ms/step\n",
      "Epoch 4/10\n",
      "\n",
      "Epoch 4: val_loss did not improve from 0.01295\n",
      "2608/2608 - 673s - loss: 0.1279 - accuracy: 0.9562 - val_loss: 0.0172 - val_accuracy: 1.0000 - lr: 0.0010 - 673s/epoch - 258ms/step\n",
      "Epoch 5/10\n",
      "\n",
      "Epoch 5: val_loss did not improve from 0.01295\n",
      "2608/2608 - 670s - loss: 0.1271 - accuracy: 0.9570 - val_loss: 0.0166 - val_accuracy: 1.0000 - lr: 0.0010 - 670s/epoch - 257ms/step\n",
      "Epoch 6/10\n",
      "\n",
      "Epoch 6: val_loss improved from 0.01295 to 0.01192, saving model to baseline_model.h5\n",
      "2608/2608 - 660s - loss: 0.1263 - accuracy: 0.9579 - val_loss: 0.0119 - val_accuracy: 1.0000 - lr: 0.0010 - 660s/epoch - 253ms/step\n",
      "Epoch 7/10\n",
      "\n",
      "Epoch 7: val_loss improved from 0.01192 to 0.00601, saving model to baseline_model.h5\n",
      "2608/2608 - 654s - loss: 0.1250 - accuracy: 0.9580 - val_loss: 0.0060 - val_accuracy: 1.0000 - lr: 0.0010 - 654s/epoch - 251ms/step\n",
      "Epoch 8/10\n",
      "\n",
      "Epoch 8: val_loss did not improve from 0.00601\n",
      "2608/2608 - 654s - loss: 0.1241 - accuracy: 0.9578 - val_loss: 0.0255 - val_accuracy: 1.0000 - lr: 0.0010 - 654s/epoch - 251ms/step\n",
      "Epoch 9/10\n",
      "\n",
      "Epoch 9: val_loss did not improve from 0.00601\n",
      "2608/2608 - 671s - loss: 0.1232 - accuracy: 0.9592 - val_loss: 0.0074 - val_accuracy: 1.0000 - lr: 0.0010 - 671s/epoch - 257ms/step\n",
      "Epoch 10/10\n",
      "\n",
      "Epoch 10: val_loss did not improve from 0.00601\n",
      "\n",
      "Epoch 10: ReduceLROnPlateau reducing learning rate to 0.00010000000474974513.\n",
      "2608/2608 - 679s - loss: 0.1227 - accuracy: 0.9578 - val_loss: 0.0088 - val_accuracy: 1.0000 - lr: 0.0010 - 679s/epoch - 260ms/step\n",
      "Epoch 10: early stopping\n"
     ]
    }
   ],
   "source": [
    "history = model.fit(\n",
    "    train_dataset, \n",
    "    epochs = 10,\n",
    "    steps_per_epoch = nb_train_samples//batch_size,\n",
    "    validation_data = val_dataset, \n",
    "    validation_steps = 1,\n",
    "    verbose = 2,\n",
    "    callbacks = callbacks,\n",
    "    shuffle = True\n",
    ")"
   ]
  },
  {
   "cell_type": "code",
   "execution_count": 11,
   "id": "06476936",
   "metadata": {
    "execution": {
     "iopub.execute_input": "2024-02-27T20:17:43.661832Z",
     "iopub.status.busy": "2024-02-27T20:17:43.661015Z",
     "iopub.status.idle": "2024-02-27T20:17:52.206789Z",
     "shell.execute_reply": "2024-02-27T20:17:52.205837Z"
    },
    "papermill": {
     "duration": 8.562075,
     "end_time": "2024-02-27T20:17:52.208916",
     "exception": false,
     "start_time": "2024-02-27T20:17:43.646841",
     "status": "completed"
    },
    "tags": []
   },
   "outputs": [
    {
     "name": "stdout",
     "output_type": "stream",
     "text": [
      "31/31 [==============================] - 8s 270ms/step - loss: 0.0425 - accuracy: 0.9917\n",
      "Test Loss:  0.04251205176115036\n",
      "Test Accuracy:  0.9917355179786682\n"
     ]
    }
   ],
   "source": [
    "(eval_loss, eval_accuracy) = model.evaluate(test_dataset, batch_size = batch_size, verbose= 1)\n",
    "print('Test Loss: ', eval_loss)\n",
    "print('Test Accuracy: ', eval_accuracy)"
   ]
  },
  {
   "cell_type": "code",
   "execution_count": 12,
   "id": "9970fd2d",
   "metadata": {
    "execution": {
     "iopub.execute_input": "2024-02-27T20:17:52.240171Z",
     "iopub.status.busy": "2024-02-27T20:17:52.239439Z",
     "iopub.status.idle": "2024-02-27T20:17:52.251860Z",
     "shell.execute_reply": "2024-02-27T20:17:52.251153Z"
    },
    "papermill": {
     "duration": 0.029951,
     "end_time": "2024-02-27T20:17:52.253872",
     "exception": false,
     "start_time": "2024-02-27T20:17:52.223921",
     "status": "completed"
    },
    "tags": []
   },
   "outputs": [],
   "source": [
    "model.trainable= True\n",
    "model.compile(optimizer= keras.optimizers.Adam(1e-5), loss= 'categorical_crossentropy', metrics= ['accuracy'])"
   ]
  },
  {
   "cell_type": "code",
   "execution_count": 13,
   "id": "9eb2021f",
   "metadata": {
    "execution": {
     "iopub.execute_input": "2024-02-27T20:17:52.284610Z",
     "iopub.status.busy": "2024-02-27T20:17:52.283978Z",
     "iopub.status.idle": "2024-02-27T20:17:52.290061Z",
     "shell.execute_reply": "2024-02-27T20:17:52.289274Z"
    },
    "papermill": {
     "duration": 0.023551,
     "end_time": "2024-02-27T20:17:52.291905",
     "exception": false,
     "start_time": "2024-02-27T20:17:52.268354",
     "status": "completed"
    },
    "tags": []
   },
   "outputs": [],
   "source": [
    "checkpoint = ModelCheckpoint(\n",
    "    'finetuned_model.h5',\n",
    "    monitor='loss',\n",
    "    verbose=1,\n",
    "    save_best_only=True,\n",
    "    mode='auto',\n",
    "    save_weights_only=False,\n",
    "    period=1\n",
    ")\n",
    "\n",
    "earlystop = EarlyStopping(\n",
    "    monitor='loss',\n",
    "    min_delta=0.001,\n",
    "    patience=3,\n",
    "    verbose=1,\n",
    "    mode='auto'\n",
    ")\n",
    "\n",
    "csvlogger = CSVLogger(\n",
    "    filename= \"finetuned_training_csv.log\",\n",
    "    separator = \",\",\n",
    "    append = False\n",
    ")\n",
    "\n",
    "reduceLR = ReduceLROnPlateau(\n",
    "    monitor='loss',\n",
    "    factor=0.1,\n",
    "    patience=3,\n",
    "    verbose=1, \n",
    "    mode='auto'\n",
    ")\n",
    "\n",
    "callbacks = [checkpoint, earlystop, csvlogger,reduceLR]"
   ]
  },
  {
   "cell_type": "code",
   "execution_count": 14,
   "id": "1db2f1c1",
   "metadata": {
    "execution": {
     "iopub.execute_input": "2024-02-27T20:17:52.322079Z",
     "iopub.status.busy": "2024-02-27T20:17:52.321655Z",
     "iopub.status.idle": "2024-02-27T22:13:12.508463Z",
     "shell.execute_reply": "2024-02-27T22:13:12.507329Z"
    },
    "papermill": {
     "duration": 6920.20452,
     "end_time": "2024-02-27T22:13:12.510875",
     "exception": false,
     "start_time": "2024-02-27T20:17:52.306355",
     "status": "completed"
    },
    "tags": []
   },
   "outputs": [
    {
     "name": "stdout",
     "output_type": "stream",
     "text": [
      "Epoch 1/10\n",
      "\n",
      "Epoch 1: loss improved from inf to 0.12953, saving model to finetuned_model.h5\n",
      "2608/2608 - 702s - loss: 0.1295 - accuracy: 0.9570 - val_loss: 0.0025 - val_accuracy: 1.0000 - lr: 1.0000e-05 - 702s/epoch - 269ms/step\n",
      "Epoch 2/10\n",
      "\n",
      "Epoch 2: loss improved from 0.12953 to 0.11495, saving model to finetuned_model.h5\n",
      "2608/2608 - 685s - loss: 0.1150 - accuracy: 0.9615 - val_loss: 0.0060 - val_accuracy: 1.0000 - lr: 1.0000e-05 - 685s/epoch - 263ms/step\n",
      "Epoch 3/10\n",
      "\n",
      "Epoch 3: loss improved from 0.11495 to 0.10455, saving model to finetuned_model.h5\n",
      "2608/2608 - 678s - loss: 0.1046 - accuracy: 0.9652 - val_loss: 0.0118 - val_accuracy: 1.0000 - lr: 1.0000e-05 - 678s/epoch - 260ms/step\n",
      "Epoch 4/10\n",
      "\n",
      "Epoch 4: loss improved from 0.10455 to 0.09825, saving model to finetuned_model.h5\n",
      "2608/2608 - 682s - loss: 0.0983 - accuracy: 0.9670 - val_loss: 0.0150 - val_accuracy: 1.0000 - lr: 1.0000e-05 - 682s/epoch - 262ms/step\n",
      "Epoch 5/10\n",
      "\n",
      "Epoch 5: loss improved from 0.09825 to 0.09046, saving model to finetuned_model.h5\n",
      "2608/2608 - 682s - loss: 0.0905 - accuracy: 0.9687 - val_loss: 0.0165 - val_accuracy: 1.0000 - lr: 1.0000e-05 - 682s/epoch - 261ms/step\n",
      "Epoch 6/10\n",
      "\n",
      "Epoch 6: loss improved from 0.09046 to 0.08663, saving model to finetuned_model.h5\n",
      "2608/2608 - 681s - loss: 0.0866 - accuracy: 0.9707 - val_loss: 0.0174 - val_accuracy: 1.0000 - lr: 1.0000e-05 - 681s/epoch - 261ms/step\n",
      "Epoch 7/10\n",
      "\n",
      "Epoch 7: loss improved from 0.08663 to 0.08284, saving model to finetuned_model.h5\n",
      "2608/2608 - 686s - loss: 0.0828 - accuracy: 0.9713 - val_loss: 0.0095 - val_accuracy: 1.0000 - lr: 1.0000e-05 - 686s/epoch - 263ms/step\n",
      "Epoch 8/10\n",
      "\n",
      "Epoch 8: loss improved from 0.08284 to 0.07757, saving model to finetuned_model.h5\n",
      "2608/2608 - 688s - loss: 0.0776 - accuracy: 0.9737 - val_loss: 0.0046 - val_accuracy: 1.0000 - lr: 1.0000e-05 - 688s/epoch - 264ms/step\n",
      "Epoch 9/10\n",
      "\n",
      "Epoch 9: loss improved from 0.07757 to 0.07542, saving model to finetuned_model.h5\n",
      "2608/2608 - 687s - loss: 0.0754 - accuracy: 0.9745 - val_loss: 0.0026 - val_accuracy: 1.0000 - lr: 1.0000e-05 - 687s/epoch - 264ms/step\n",
      "Epoch 10/10\n",
      "\n",
      "Epoch 10: loss improved from 0.07542 to 0.07069, saving model to finetuned_model.h5\n",
      "2608/2608 - 689s - loss: 0.0707 - accuracy: 0.9756 - val_loss: 0.0085 - val_accuracy: 1.0000 - lr: 1.0000e-05 - 689s/epoch - 264ms/step\n"
     ]
    }
   ],
   "source": [
    "history_1 = model.fit(\n",
    "    train_dataset, \n",
    "    epochs = 10,\n",
    "    steps_per_epoch = nb_train_samples//batch_size,\n",
    "    validation_data = val_dataset, \n",
    "    validation_steps = 1,\n",
    "    verbose = 2,\n",
    "    callbacks = callbacks,\n",
    "    shuffle = True\n",
    ")"
   ]
  },
  {
   "cell_type": "code",
   "execution_count": 15,
   "id": "10217c68",
   "metadata": {
    "execution": {
     "iopub.execute_input": "2024-02-27T22:13:12.546690Z",
     "iopub.status.busy": "2024-02-27T22:13:12.546373Z",
     "iopub.status.idle": "2024-02-27T22:13:16.310535Z",
     "shell.execute_reply": "2024-02-27T22:13:16.309594Z"
    },
    "papermill": {
     "duration": 3.78425,
     "end_time": "2024-02-27T22:13:16.312630",
     "exception": false,
     "start_time": "2024-02-27T22:13:12.528380",
     "status": "completed"
    },
    "tags": []
   },
   "outputs": [
    {
     "name": "stdout",
     "output_type": "stream",
     "text": [
      "31/31 [==============================] - 4s 116ms/step - loss: 0.0161 - accuracy: 0.9938\n",
      "Test Loss:  0.01608581840991974\n",
      "Test Accuracy:  0.9938016533851624\n"
     ]
    }
   ],
   "source": [
    "(eval_loss, eval_accuracy) = model.evaluate(test_dataset, batch_size= batch_size, verbose= 1)\n",
    "print('Test Loss: ', eval_loss)\n",
    "print('Test Accuracy: ', eval_accuracy)"
   ]
  },
  {
   "cell_type": "code",
   "execution_count": 16,
   "id": "2b8cb245",
   "metadata": {
    "execution": {
     "iopub.execute_input": "2024-02-27T22:13:16.353197Z",
     "iopub.status.busy": "2024-02-27T22:13:16.352683Z",
     "iopub.status.idle": "2024-02-27T22:13:16.448077Z",
     "shell.execute_reply": "2024-02-27T22:13:16.447303Z"
    },
    "papermill": {
     "duration": 0.117964,
     "end_time": "2024-02-27T22:13:16.450386",
     "exception": false,
     "start_time": "2024-02-27T22:13:16.332422",
     "status": "completed"
    },
    "tags": []
   },
   "outputs": [],
   "source": [
    "model.save_weights(\"Classes_3to2_Model.h5\")"
   ]
  },
  {
   "cell_type": "code",
   "execution_count": null,
   "id": "cf06eb14",
   "metadata": {
    "papermill": {
     "duration": 0.019736,
     "end_time": "2024-02-27T22:13:16.490019",
     "exception": false,
     "start_time": "2024-02-27T22:13:16.470283",
     "status": "completed"
    },
    "tags": []
   },
   "outputs": [],
   "source": []
  }
 ],
 "metadata": {
  "kaggle": {
   "accelerator": "gpu",
   "dataSources": [
    {
     "datasetId": 17839,
     "sourceId": 23942,
     "sourceType": "datasetVersion"
    },
    {
     "sourceId": 164433039,
     "sourceType": "kernelVersion"
    }
   ],
   "isGpuEnabled": true,
   "isInternetEnabled": true,
   "language": "python",
   "sourceType": "notebook"
  },
  "kernelspec": {
   "display_name": "Python 3",
   "language": "python",
   "name": "python3"
  },
  "language_info": {
   "codemirror_mode": {
    "name": "ipython",
    "version": 3
   },
   "file_extension": ".py",
   "mimetype": "text/x-python",
   "name": "python",
   "nbconvert_exporter": "python",
   "pygments_lexer": "ipython3",
   "version": "3.10.13"
  },
  "papermill": {
   "default_parameters": {},
   "duration": 14109.840143,
   "end_time": "2024-02-27T22:13:19.165964",
   "environment_variables": {},
   "exception": null,
   "input_path": "__notebook__.ipynb",
   "output_path": "__notebook__.ipynb",
   "parameters": {},
   "start_time": "2024-02-27T18:18:09.325821",
   "version": "2.5.0"
  }
 },
 "nbformat": 4,
 "nbformat_minor": 5
}
