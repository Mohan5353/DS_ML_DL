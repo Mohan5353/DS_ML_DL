{
 "cells": [
  {
   "cell_type": "code",
   "execution_count": 1,
   "id": "4f8869e8",
   "metadata": {
    "_cell_guid": "b1076dfc-b9ad-4769-8c92-a6c4dae69d19",
    "_uuid": "8f2839f25d086af736a60e9eeb907d3b93b6e0e5",
    "execution": {
     "iopub.execute_input": "2024-04-20T14:55:36.172477Z",
     "iopub.status.busy": "2024-04-20T14:55:36.172021Z",
     "iopub.status.idle": "2024-04-20T14:55:38.049516Z",
     "shell.execute_reply": "2024-04-20T14:55:38.047804Z"
    },
    "papermill": {
     "duration": 1.888267,
     "end_time": "2024-04-20T14:55:38.052395",
     "exception": false,
     "start_time": "2024-04-20T14:55:36.164128",
     "status": "completed"
    },
    "tags": []
   },
   "outputs": [],
   "source": [
    "import numpy as np # linear algebra\n",
    "import pandas as pd # data processing, CSV file I/O (e.g. pd.read_csv)\n",
    "import matplotlib.pyplot as plt\n",
    "import os\n",
    "from tqdm.notebook import tqdm\n",
    "import scipy\n",
    "from skimage.transform import resize"
   ]
  },
  {
   "cell_type": "code",
   "execution_count": 2,
   "id": "c8f3b9a7",
   "metadata": {
    "execution": {
     "iopub.execute_input": "2024-04-20T14:55:38.066602Z",
     "iopub.status.busy": "2024-04-20T14:55:38.065694Z",
     "iopub.status.idle": "2024-04-20T15:01:18.599930Z",
     "shell.execute_reply": "2024-04-20T15:01:18.598331Z"
    },
    "papermill": {
     "duration": 340.544492,
     "end_time": "2024-04-20T15:01:18.603080",
     "exception": false,
     "start_time": "2024-04-20T14:55:38.058588",
     "status": "completed"
    },
    "tags": []
   },
   "outputs": [
    {
     "data": {
      "application/vnd.jupyter.widget-view+json": {
       "model_id": "7ca8e42bae8449df816e14739c96e50c",
       "version_major": 2,
       "version_minor": 0
      },
      "text/plain": [
       "  0%|          | 0/269 [00:00<?, ?it/s]"
      ]
     },
     "metadata": {},
     "output_type": "display_data"
    }
   ],
   "source": [
    "count=0\n",
    "x_data=[]\n",
    "y_data=[]\n",
    "path=\"/kaggle/input/farsiu-2014/AMD 2/AMD 2\"\n",
    "for file in tqdm(os.listdir(path)):\n",
    "    if count >= 2000:\n",
    "        break\n",
    "    mat=scipy.io.loadmat(os.path.join(path,file))\n",
    "    images=mat['images']\n",
    "    layers1 = mat['layerMaps']\n",
    "    # img=img.reshape(256,256,3)\n",
    "    x, y, nimages = images.shape\n",
    "    step = 4\n",
    "    my_dpi=200\n",
    "    ini = int(y / step)\n",
    "    fin = int(ini * (step - 1))\n",
    "    thr = fin - ini - 1\n",
    "    for i in range(100):\n",
    "        curr_im = images[:, ini:fin, i]\n",
    "        curr_l1_0 = layers1[i, ini:fin, 0]\n",
    "        curr_l1_1 = layers1[i, ini:fin, 1]\n",
    "        curr_l1_2 = layers1[i, ini:fin, 2]\n",
    "        cn0 = np.count_nonzero(~np.isnan(curr_l1_0))\n",
    "        cn1 = np.count_nonzero(~np.isnan(curr_l1_1))\n",
    "        cn2 = np.count_nonzero(~np.isnan(curr_l1_2))\n",
    "        # print(img.shape)\n",
    "        flag = ((cn0 > thr) and (cn1 > thr) and (cn2 > thr))\n",
    "        if flag:\n",
    "            if count >= 2000:\n",
    "                break\n",
    "            fig = plt.figure(frameon=False)\n",
    "            fig.set_size_inches(y / my_dpi, x / my_dpi)\n",
    "            ax = plt.Axes(fig, [0., 0., 1., 1.])\n",
    "            ax.set_axis_off()\n",
    "            fig.add_axes(ax)\n",
    "            ax.imshow(curr_im, aspect='auto', cmap='gray')\n",
    "            fig.canvas.draw()\n",
    "            image=np.frombuffer(fig.canvas.tostring_rgb(),dtype=np.uint8)\n",
    "            image=image.reshape(fig.canvas.get_width_height()[::-1] + (3,))\n",
    "            image=resize(image,(256,256,3))\n",
    "            x_data+=[image]\n",
    "            fig=plt.figure(frameon=False)\n",
    "            fig.set_size_inches(y / my_dpi, x / my_dpi)\n",
    "            ax = plt.Axes(fig, [0., 0., 1., 1.])\n",
    "            ax.set_axis_off()\n",
    "            fig.add_axes(ax)\n",
    "            black = np.zeros([x, fin - ini], dtype=curr_im.dtype)\n",
    "            ax.imshow(black, aspect='auto', cmap='gray')\n",
    "            ax.plot(curr_l1_0, 'w', aa=False   , linewidth=0.25)\n",
    "            ax.plot(curr_l1_1, 'w', aa=False, linewidth=0.25)\n",
    "            ax.plot(curr_l1_2, 'w', aa=False, linewidth=0.25)\n",
    "            fig.canvas.draw()\n",
    "            mask=np.frombuffer(fig.canvas.tostring_rgb(),dtype=np.uint8)\n",
    "            mask=mask.reshape(fig.canvas.get_width_height()[::-1] + (3,))\n",
    "            mask=resize(mask,(256,256,3))\n",
    "            y_data+=[mask]\n",
    "            plt.close('all')\n",
    "            count+=1\n",
    "x_train, y_train = np.array(x_data[:1600]), np.array(y_data[:1600])\n",
    "x_val, y_val = np.array(x_data[1600:1800]), np.array(y_data[1600:1800])\n",
    "x_test, y_test = np.array(x_data[1800:]), np.array(y_data[1800:])"
   ]
  },
  {
   "cell_type": "code",
   "execution_count": 3,
   "id": "d8906521",
   "metadata": {
    "execution": {
     "iopub.execute_input": "2024-04-20T15:01:18.620596Z",
     "iopub.status.busy": "2024-04-20T15:01:18.620175Z",
     "iopub.status.idle": "2024-04-20T15:01:18.628648Z",
     "shell.execute_reply": "2024-04-20T15:01:18.627630Z"
    },
    "papermill": {
     "duration": 0.020627,
     "end_time": "2024-04-20T15:01:18.630725",
     "exception": false,
     "start_time": "2024-04-20T15:01:18.610098",
     "status": "completed"
    },
    "tags": []
   },
   "outputs": [
    {
     "data": {
      "text/plain": [
       "(1600, 256, 256, 3)"
      ]
     },
     "execution_count": 3,
     "metadata": {},
     "output_type": "execute_result"
    }
   ],
   "source": [
    "x_train.shape"
   ]
  },
  {
   "cell_type": "code",
   "execution_count": 4,
   "id": "ca8c2a25",
   "metadata": {
    "execution": {
     "iopub.execute_input": "2024-04-20T15:01:18.646338Z",
     "iopub.status.busy": "2024-04-20T15:01:18.645533Z",
     "iopub.status.idle": "2024-04-20T15:01:18.652238Z",
     "shell.execute_reply": "2024-04-20T15:01:18.650952Z"
    },
    "papermill": {
     "duration": 0.019069,
     "end_time": "2024-04-20T15:01:18.655377",
     "exception": false,
     "start_time": "2024-04-20T15:01:18.636308",
     "status": "completed"
    },
    "tags": []
   },
   "outputs": [
    {
     "data": {
      "text/plain": [
       "(200, 256, 256, 3)"
      ]
     },
     "execution_count": 4,
     "metadata": {},
     "output_type": "execute_result"
    }
   ],
   "source": [
    "x_val.shape"
   ]
  },
  {
   "cell_type": "code",
   "execution_count": 5,
   "id": "5de56238",
   "metadata": {
    "execution": {
     "iopub.execute_input": "2024-04-20T15:01:18.670116Z",
     "iopub.status.busy": "2024-04-20T15:01:18.669625Z",
     "iopub.status.idle": "2024-04-20T15:01:18.677650Z",
     "shell.execute_reply": "2024-04-20T15:01:18.676137Z"
    },
    "papermill": {
     "duration": 0.018704,
     "end_time": "2024-04-20T15:01:18.680482",
     "exception": false,
     "start_time": "2024-04-20T15:01:18.661778",
     "status": "completed"
    },
    "tags": []
   },
   "outputs": [
    {
     "data": {
      "text/plain": [
       "(200, 256, 256, 3)"
      ]
     },
     "execution_count": 5,
     "metadata": {},
     "output_type": "execute_result"
    }
   ],
   "source": [
    "x_test.shape"
   ]
  },
  {
   "cell_type": "code",
   "execution_count": 6,
   "id": "468bc3a1",
   "metadata": {
    "execution": {
     "iopub.execute_input": "2024-04-20T15:01:18.695443Z",
     "iopub.status.busy": "2024-04-20T15:01:18.694715Z",
     "iopub.status.idle": "2024-04-20T15:01:18.699505Z",
     "shell.execute_reply": "2024-04-20T15:01:18.698267Z"
    },
    "papermill": {
     "duration": 0.015207,
     "end_time": "2024-04-20T15:01:18.701989",
     "exception": false,
     "start_time": "2024-04-20T15:01:18.686782",
     "status": "completed"
    },
    "tags": []
   },
   "outputs": [],
   "source": [
    "from _pickle import Pickler"
   ]
  },
  {
   "cell_type": "code",
   "execution_count": 7,
   "id": "08a14ae4",
   "metadata": {
    "execution": {
     "iopub.execute_input": "2024-04-20T15:01:18.717067Z",
     "iopub.status.busy": "2024-04-20T15:01:18.716312Z",
     "iopub.status.idle": "2024-04-20T15:01:29.696771Z",
     "shell.execute_reply": "2024-04-20T15:01:29.695251Z"
    },
    "papermill": {
     "duration": 10.991839,
     "end_time": "2024-04-20T15:01:29.700094",
     "exception": false,
     "start_time": "2024-04-20T15:01:18.708255",
     "status": "completed"
    },
    "tags": []
   },
   "outputs": [],
   "source": [
    "file = open(\"x_train.pickle\",\"wb\")\n",
    "Pickler(file).dump(x_train)"
   ]
  },
  {
   "cell_type": "code",
   "execution_count": 8,
   "id": "af3af319",
   "metadata": {
    "execution": {
     "iopub.execute_input": "2024-04-20T15:01:38.009442Z",
     "iopub.status.busy": "2024-04-20T15:01:38.008337Z",
     "iopub.status.idle": "2024-04-20T15:01:55.893971Z",
     "shell.execute_reply": "2024-04-20T15:01:55.890768Z"
    },
    "papermill": {
     "duration": 18.141317,
     "end_time": "2024-04-20T15:01:55.900845",
     "exception": false,
     "start_time": "2024-04-20T15:01:37.759528",
     "status": "completed"
    },
    "tags": []
   },
   "outputs": [],
   "source": [
    "file = open(\"y_train.pickle\",\"wb\")\n",
    "Pickler(file).dump(y_train)"
   ]
  },
  {
   "cell_type": "code",
   "execution_count": 9,
   "id": "0cef8f40",
   "metadata": {
    "execution": {
     "iopub.execute_input": "2024-04-20T15:01:56.741022Z",
     "iopub.status.busy": "2024-04-20T15:01:56.739899Z",
     "iopub.status.idle": "2024-04-20T15:01:57.464398Z",
     "shell.execute_reply": "2024-04-20T15:01:57.461451Z"
    },
    "papermill": {
     "duration": 0.738663,
     "end_time": "2024-04-20T15:01:57.468482",
     "exception": false,
     "start_time": "2024-04-20T15:01:56.729819",
     "status": "completed"
    },
    "tags": []
   },
   "outputs": [],
   "source": [
    "file = open(\"x_val.pickle\",\"wb\")\n",
    "Pickler(file).dump(x_val)"
   ]
  },
  {
   "cell_type": "code",
   "execution_count": 10,
   "id": "754bbb05",
   "metadata": {
    "execution": {
     "iopub.execute_input": "2024-04-20T15:01:57.534309Z",
     "iopub.status.busy": "2024-04-20T15:01:57.533017Z",
     "iopub.status.idle": "2024-04-20T15:01:59.009781Z",
     "shell.execute_reply": "2024-04-20T15:01:59.008031Z"
    },
    "papermill": {
     "duration": 1.49386,
     "end_time": "2024-04-20T15:01:59.013574",
     "exception": false,
     "start_time": "2024-04-20T15:01:57.519714",
     "status": "completed"
    },
    "tags": []
   },
   "outputs": [],
   "source": [
    "file = open(\"y_val.pickle\",\"wb\")\n",
    "Pickler(file).dump(y_val)"
   ]
  },
  {
   "cell_type": "code",
   "execution_count": 11,
   "id": "205d156f",
   "metadata": {
    "execution": {
     "iopub.execute_input": "2024-04-20T15:02:04.346451Z",
     "iopub.status.busy": "2024-04-20T15:02:04.345750Z",
     "iopub.status.idle": "2024-04-20T15:02:05.214624Z",
     "shell.execute_reply": "2024-04-20T15:02:05.213334Z"
    },
    "papermill": {
     "duration": 0.931741,
     "end_time": "2024-04-20T15:02:05.217766",
     "exception": false,
     "start_time": "2024-04-20T15:02:04.286025",
     "status": "completed"
    },
    "tags": []
   },
   "outputs": [],
   "source": [
    "file = open(\"x_test.pickle\",\"wb\")\n",
    "Pickler(file).dump(x_test)"
   ]
  },
  {
   "cell_type": "code",
   "execution_count": 12,
   "id": "f1c8fc0f",
   "metadata": {
    "execution": {
     "iopub.execute_input": "2024-04-20T15:02:05.231735Z",
     "iopub.status.busy": "2024-04-20T15:02:05.231310Z",
     "iopub.status.idle": "2024-04-20T15:02:05.959381Z",
     "shell.execute_reply": "2024-04-20T15:02:05.958077Z"
    },
    "papermill": {
     "duration": 0.738593,
     "end_time": "2024-04-20T15:02:05.962430",
     "exception": false,
     "start_time": "2024-04-20T15:02:05.223837",
     "status": "completed"
    },
    "tags": []
   },
   "outputs": [],
   "source": [
    "file = open(\"y_test.pickle\",\"wb\")\n",
    "Pickler(file).dump(y_test)"
   ]
  },
  {
   "cell_type": "code",
   "execution_count": 13,
   "id": "66be769c",
   "metadata": {
    "execution": {
     "iopub.execute_input": "2024-04-20T15:02:05.976881Z",
     "iopub.status.busy": "2024-04-20T15:02:05.976193Z",
     "iopub.status.idle": "2024-04-20T15:02:28.551551Z",
     "shell.execute_reply": "2024-04-20T15:02:28.550065Z"
    },
    "papermill": {
     "duration": 22.588122,
     "end_time": "2024-04-20T15:02:28.556526",
     "exception": false,
     "start_time": "2024-04-20T15:02:05.968404",
     "status": "completed"
    },
    "tags": []
   },
   "outputs": [],
   "source": [
    "np.save(\"x_train.npy\",x_train)\n",
    "np.save(\"y_train.npy\",y_train)\n",
    "\n",
    "np.save(\"x_val.npy\",x_val)\n",
    "np.save(\"y_val.npy\",y_val)\n",
    "\n",
    "np.save(\"x_test.npy\",x_test)\n",
    "np.save(\"y_test.npy\",y_test)"
   ]
  }
 ],
 "metadata": {
  "kaggle": {
   "accelerator": "none",
   "dataSources": [
    {
     "datasetId": 42587,
     "sourceId": 74010,
     "sourceType": "datasetVersion"
    }
   ],
   "dockerImageVersionId": 30698,
   "isGpuEnabled": false,
   "isInternetEnabled": true,
   "language": "python",
   "sourceType": "notebook"
  },
  "kernelspec": {
   "display_name": "Python 3",
   "language": "python",
   "name": "python3"
  },
  "language_info": {
   "codemirror_mode": {
    "name": "ipython",
    "version": 3
   },
   "file_extension": ".py",
   "mimetype": "text/x-python",
   "name": "python",
   "nbconvert_exporter": "python",
   "pygments_lexer": "ipython3",
   "version": "3.10.13"
  },
  "papermill": {
   "default_parameters": {},
   "duration": 420.293767,
   "end_time": "2024-04-20T15:02:32.649404",
   "environment_variables": {},
   "exception": null,
   "input_path": "__notebook__.ipynb",
   "output_path": "__notebook__.ipynb",
   "parameters": {},
   "start_time": "2024-04-20T14:55:32.355637",
   "version": "2.5.0"
  },
  "widgets": {
   "application/vnd.jupyter.widget-state+json": {
    "state": {
     "0ac0182044a747f2abb61bf9a41fe485": {
      "model_module": "@jupyter-widgets/controls",
      "model_module_version": "1.5.0",
      "model_name": "ProgressStyleModel",
      "state": {
       "_model_module": "@jupyter-widgets/controls",
       "_model_module_version": "1.5.0",
       "_model_name": "ProgressStyleModel",
       "_view_count": null,
       "_view_module": "@jupyter-widgets/base",
       "_view_module_version": "1.2.0",
       "_view_name": "StyleView",
       "bar_color": null,
       "description_width": ""
      }
     },
     "4280783a3b804c5384f4221a9908f3c1": {
      "model_module": "@jupyter-widgets/controls",
      "model_module_version": "1.5.0",
      "model_name": "HTMLModel",
      "state": {
       "_dom_classes": [],
       "_model_module": "@jupyter-widgets/controls",
       "_model_module_version": "1.5.0",
       "_model_name": "HTMLModel",
       "_view_count": null,
       "_view_module": "@jupyter-widgets/controls",
       "_view_module_version": "1.5.0",
       "_view_name": "HTMLView",
       "description": "",
       "description_tooltip": null,
       "layout": "IPY_MODEL_8174059eefa24c2bacd45db6235e8157",
       "placeholder": "​",
       "style": "IPY_MODEL_a8b4d2db01fd49049cb0cab9e56fb89b",
       "value": " 39/269 [05:37&lt;29:21,  7.66s/it]"
      }
     },
     "7ca8e42bae8449df816e14739c96e50c": {
      "model_module": "@jupyter-widgets/controls",
      "model_module_version": "1.5.0",
      "model_name": "HBoxModel",
      "state": {
       "_dom_classes": [],
       "_model_module": "@jupyter-widgets/controls",
       "_model_module_version": "1.5.0",
       "_model_name": "HBoxModel",
       "_view_count": null,
       "_view_module": "@jupyter-widgets/controls",
       "_view_module_version": "1.5.0",
       "_view_name": "HBoxView",
       "box_style": "",
       "children": [
        "IPY_MODEL_ac4cf2acfe6b464294abd491efa1e96e",
        "IPY_MODEL_bf310b4a3410437682db70b99cf45f12",
        "IPY_MODEL_4280783a3b804c5384f4221a9908f3c1"
       ],
       "layout": "IPY_MODEL_a65b289269b34e50ab60fd2338dfeb50"
      }
     },
     "7f05f82d00d04be3971edb94632df433": {
      "model_module": "@jupyter-widgets/base",
      "model_module_version": "1.2.0",
      "model_name": "LayoutModel",
      "state": {
       "_model_module": "@jupyter-widgets/base",
       "_model_module_version": "1.2.0",
       "_model_name": "LayoutModel",
       "_view_count": null,
       "_view_module": "@jupyter-widgets/base",
       "_view_module_version": "1.2.0",
       "_view_name": "LayoutView",
       "align_content": null,
       "align_items": null,
       "align_self": null,
       "border": null,
       "bottom": null,
       "display": null,
       "flex": null,
       "flex_flow": null,
       "grid_area": null,
       "grid_auto_columns": null,
       "grid_auto_flow": null,
       "grid_auto_rows": null,
       "grid_column": null,
       "grid_gap": null,
       "grid_row": null,
       "grid_template_areas": null,
       "grid_template_columns": null,
       "grid_template_rows": null,
       "height": null,
       "justify_content": null,
       "justify_items": null,
       "left": null,
       "margin": null,
       "max_height": null,
       "max_width": null,
       "min_height": null,
       "min_width": null,
       "object_fit": null,
       "object_position": null,
       "order": null,
       "overflow": null,
       "overflow_x": null,
       "overflow_y": null,
       "padding": null,
       "right": null,
       "top": null,
       "visibility": null,
       "width": null
      }
     },
     "8174059eefa24c2bacd45db6235e8157": {
      "model_module": "@jupyter-widgets/base",
      "model_module_version": "1.2.0",
      "model_name": "LayoutModel",
      "state": {
       "_model_module": "@jupyter-widgets/base",
       "_model_module_version": "1.2.0",
       "_model_name": "LayoutModel",
       "_view_count": null,
       "_view_module": "@jupyter-widgets/base",
       "_view_module_version": "1.2.0",
       "_view_name": "LayoutView",
       "align_content": null,
       "align_items": null,
       "align_self": null,
       "border": null,
       "bottom": null,
       "display": null,
       "flex": null,
       "flex_flow": null,
       "grid_area": null,
       "grid_auto_columns": null,
       "grid_auto_flow": null,
       "grid_auto_rows": null,
       "grid_column": null,
       "grid_gap": null,
       "grid_row": null,
       "grid_template_areas": null,
       "grid_template_columns": null,
       "grid_template_rows": null,
       "height": null,
       "justify_content": null,
       "justify_items": null,
       "left": null,
       "margin": null,
       "max_height": null,
       "max_width": null,
       "min_height": null,
       "min_width": null,
       "object_fit": null,
       "object_position": null,
       "order": null,
       "overflow": null,
       "overflow_x": null,
       "overflow_y": null,
       "padding": null,
       "right": null,
       "top": null,
       "visibility": null,
       "width": null
      }
     },
     "a65b289269b34e50ab60fd2338dfeb50": {
      "model_module": "@jupyter-widgets/base",
      "model_module_version": "1.2.0",
      "model_name": "LayoutModel",
      "state": {
       "_model_module": "@jupyter-widgets/base",
       "_model_module_version": "1.2.0",
       "_model_name": "LayoutModel",
       "_view_count": null,
       "_view_module": "@jupyter-widgets/base",
       "_view_module_version": "1.2.0",
       "_view_name": "LayoutView",
       "align_content": null,
       "align_items": null,
       "align_self": null,
       "border": null,
       "bottom": null,
       "display": null,
       "flex": null,
       "flex_flow": null,
       "grid_area": null,
       "grid_auto_columns": null,
       "grid_auto_flow": null,
       "grid_auto_rows": null,
       "grid_column": null,
       "grid_gap": null,
       "grid_row": null,
       "grid_template_areas": null,
       "grid_template_columns": null,
       "grid_template_rows": null,
       "height": null,
       "justify_content": null,
       "justify_items": null,
       "left": null,
       "margin": null,
       "max_height": null,
       "max_width": null,
       "min_height": null,
       "min_width": null,
       "object_fit": null,
       "object_position": null,
       "order": null,
       "overflow": null,
       "overflow_x": null,
       "overflow_y": null,
       "padding": null,
       "right": null,
       "top": null,
       "visibility": null,
       "width": null
      }
     },
     "a8b4d2db01fd49049cb0cab9e56fb89b": {
      "model_module": "@jupyter-widgets/controls",
      "model_module_version": "1.5.0",
      "model_name": "DescriptionStyleModel",
      "state": {
       "_model_module": "@jupyter-widgets/controls",
       "_model_module_version": "1.5.0",
       "_model_name": "DescriptionStyleModel",
       "_view_count": null,
       "_view_module": "@jupyter-widgets/base",
       "_view_module_version": "1.2.0",
       "_view_name": "StyleView",
       "description_width": ""
      }
     },
     "ac4cf2acfe6b464294abd491efa1e96e": {
      "model_module": "@jupyter-widgets/controls",
      "model_module_version": "1.5.0",
      "model_name": "HTMLModel",
      "state": {
       "_dom_classes": [],
       "_model_module": "@jupyter-widgets/controls",
       "_model_module_version": "1.5.0",
       "_model_name": "HTMLModel",
       "_view_count": null,
       "_view_module": "@jupyter-widgets/controls",
       "_view_module_version": "1.5.0",
       "_view_name": "HTMLView",
       "description": "",
       "description_tooltip": null,
       "layout": "IPY_MODEL_b395d462d95743ad8c6451fe86ee9fd3",
       "placeholder": "​",
       "style": "IPY_MODEL_bcd3a5a4eb404d1e9a1399127d80694d",
       "value": " 14%"
      }
     },
     "b395d462d95743ad8c6451fe86ee9fd3": {
      "model_module": "@jupyter-widgets/base",
      "model_module_version": "1.2.0",
      "model_name": "LayoutModel",
      "state": {
       "_model_module": "@jupyter-widgets/base",
       "_model_module_version": "1.2.0",
       "_model_name": "LayoutModel",
       "_view_count": null,
       "_view_module": "@jupyter-widgets/base",
       "_view_module_version": "1.2.0",
       "_view_name": "LayoutView",
       "align_content": null,
       "align_items": null,
       "align_self": null,
       "border": null,
       "bottom": null,
       "display": null,
       "flex": null,
       "flex_flow": null,
       "grid_area": null,
       "grid_auto_columns": null,
       "grid_auto_flow": null,
       "grid_auto_rows": null,
       "grid_column": null,
       "grid_gap": null,
       "grid_row": null,
       "grid_template_areas": null,
       "grid_template_columns": null,
       "grid_template_rows": null,
       "height": null,
       "justify_content": null,
       "justify_items": null,
       "left": null,
       "margin": null,
       "max_height": null,
       "max_width": null,
       "min_height": null,
       "min_width": null,
       "object_fit": null,
       "object_position": null,
       "order": null,
       "overflow": null,
       "overflow_x": null,
       "overflow_y": null,
       "padding": null,
       "right": null,
       "top": null,
       "visibility": null,
       "width": null
      }
     },
     "bcd3a5a4eb404d1e9a1399127d80694d": {
      "model_module": "@jupyter-widgets/controls",
      "model_module_version": "1.5.0",
      "model_name": "DescriptionStyleModel",
      "state": {
       "_model_module": "@jupyter-widgets/controls",
       "_model_module_version": "1.5.0",
       "_model_name": "DescriptionStyleModel",
       "_view_count": null,
       "_view_module": "@jupyter-widgets/base",
       "_view_module_version": "1.2.0",
       "_view_name": "StyleView",
       "description_width": ""
      }
     },
     "bf310b4a3410437682db70b99cf45f12": {
      "model_module": "@jupyter-widgets/controls",
      "model_module_version": "1.5.0",
      "model_name": "FloatProgressModel",
      "state": {
       "_dom_classes": [],
       "_model_module": "@jupyter-widgets/controls",
       "_model_module_version": "1.5.0",
       "_model_name": "FloatProgressModel",
       "_view_count": null,
       "_view_module": "@jupyter-widgets/controls",
       "_view_module_version": "1.5.0",
       "_view_name": "ProgressView",
       "bar_style": "danger",
       "description": "",
       "description_tooltip": null,
       "layout": "IPY_MODEL_7f05f82d00d04be3971edb94632df433",
       "max": 269.0,
       "min": 0.0,
       "orientation": "horizontal",
       "style": "IPY_MODEL_0ac0182044a747f2abb61bf9a41fe485",
       "value": 39.0
      }
     }
    },
    "version_major": 2,
    "version_minor": 0
   }
  }
 },
 "nbformat": 4,
 "nbformat_minor": 5
}
