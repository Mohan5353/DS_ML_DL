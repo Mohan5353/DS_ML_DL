{
 "cells": [
  {
   "cell_type": "code",
   "execution_count": 1,
   "id": "662bf1d5",
   "metadata": {
    "_cell_guid": "b1076dfc-b9ad-4769-8c92-a6c4dae69d19",
    "_uuid": "8f2839f25d086af736a60e9eeb907d3b93b6e0e5",
    "execution": {
     "iopub.execute_input": "2024-04-20T10:45:21.412119Z",
     "iopub.status.busy": "2024-04-20T10:45:21.411671Z",
     "iopub.status.idle": "2024-04-20T10:45:40.684411Z",
     "shell.execute_reply": "2024-04-20T10:45:40.682961Z"
    },
    "papermill": {
     "duration": 19.281678,
     "end_time": "2024-04-20T10:45:40.688528",
     "exception": false,
     "start_time": "2024-04-20T10:45:21.406850",
     "status": "completed"
    },
    "tags": []
   },
   "outputs": [
    {
     "name": "stderr",
     "output_type": "stream",
     "text": [
      "2024-04-20 10:45:25.086095: E external/local_xla/xla/stream_executor/cuda/cuda_dnn.cc:9261] Unable to register cuDNN factory: Attempting to register factory for plugin cuDNN when one has already been registered\n",
      "2024-04-20 10:45:25.086305: E external/local_xla/xla/stream_executor/cuda/cuda_fft.cc:607] Unable to register cuFFT factory: Attempting to register factory for plugin cuFFT when one has already been registered\n",
      "2024-04-20 10:45:25.253455: E external/local_xla/xla/stream_executor/cuda/cuda_blas.cc:1515] Unable to register cuBLAS factory: Attempting to register factory for plugin cuBLAS when one has already been registered\n"
     ]
    }
   ],
   "source": [
    "import numpy as np # linear algebra\n",
    "import pandas as pd # data processing, CSV file I/O (e.g. pd.read_csv)\n",
    "import matplotlib.pyplot as plt\n",
    "import os\n",
    "import keras\n",
    "import cv2\n",
    "import h5py\n",
    "from tensorflow.keras.preprocessing.image import ImageDataGenerator\n",
    "from tensorflow.keras.callbacks import CSVLogger,ModelCheckpoint\n",
    "import pathlib\n",
    "from sklearn.model_selection import train_test_split\n",
    "from keras.optimizers import Adam, Adamax\n",
    "from keras.models import Model, load_model\n",
    "from tensorflow.keras.layers import Input, Activation, BatchNormalization, Dense, Dropout, Lambda, Conv2D, Conv2DTranspose, MaxPooling2D, concatenate, GlobalMaxPool2D, add\n",
    "from tensorflow.keras import backend as K\n",
    "from tqdm.notebook import tqdm\n",
    "import scipy\n",
    "import tensorflow as tf\n",
    "from skimage.transform import resize"
   ]
  },
  {
   "cell_type": "code",
   "execution_count": 2,
   "id": "b17ea1bb",
   "metadata": {
    "execution": {
     "iopub.execute_input": "2024-04-20T10:45:40.698681Z",
     "iopub.status.busy": "2024-04-20T10:45:40.697622Z",
     "iopub.status.idle": "2024-04-20T10:51:15.458701Z",
     "shell.execute_reply": "2024-04-20T10:51:15.457208Z"
    },
    "papermill": {
     "duration": 334.769152,
     "end_time": "2024-04-20T10:51:15.461620",
     "exception": false,
     "start_time": "2024-04-20T10:45:40.692468",
     "status": "completed"
    },
    "tags": []
   },
   "outputs": [
    {
     "data": {
      "application/vnd.jupyter.widget-view+json": {
       "model_id": "637afdaf58cc45afbafc7059c5961253",
       "version_major": 2,
       "version_minor": 0
      },
      "text/plain": [
       "  0%|          | 0/269 [00:00<?, ?it/s]"
      ]
     },
     "metadata": {},
     "output_type": "display_data"
    }
   ],
   "source": [
    "count=0\n",
    "x_data=[]\n",
    "y_data=[]\n",
    "path=\"/kaggle/input/farsiu-2014/AMD 2/AMD 2\"\n",
    "for file in tqdm(os.listdir(path)):\n",
    "    if count >= 2000:\n",
    "        break\n",
    "    mat=scipy.io.loadmat(os.path.join(path,file))\n",
    "    images=mat['images']\n",
    "    layers1 = mat['layerMaps']\n",
    "    # img=img.reshape(256,256,3)\n",
    "    x, y, nimages = images.shape\n",
    "    step = 4\n",
    "    my_dpi=200\n",
    "    ini = int(y / step)\n",
    "    fin = int(ini * (step - 1))\n",
    "    thr = fin - ini - 1\n",
    "    for i in range(100):\n",
    "        curr_im = images[:, ini:fin, i]\n",
    "        curr_l1_0 = layers1[i, ini:fin, 0]\n",
    "        curr_l1_1 = layers1[i, ini:fin, 1]\n",
    "        curr_l1_2 = layers1[i, ini:fin, 2]\n",
    "        cn0 = np.count_nonzero(~np.isnan(curr_l1_0))\n",
    "        cn1 = np.count_nonzero(~np.isnan(curr_l1_1))\n",
    "        cn2 = np.count_nonzero(~np.isnan(curr_l1_2))\n",
    "        # print(img.shape)\n",
    "        flag = ((cn0 > thr) and (cn1 > thr) and (cn2 > thr))\n",
    "        if flag:\n",
    "            if count >= 2000:\n",
    "                break\n",
    "            fig = plt.figure(frameon=False)\n",
    "            fig.set_size_inches(y / my_dpi, x / my_dpi)\n",
    "            ax = plt.Axes(fig, [0., 0., 1., 1.])\n",
    "            ax.set_axis_off()\n",
    "            fig.add_axes(ax)\n",
    "            ax.imshow(curr_im, aspect='auto', cmap='gray')\n",
    "            fig.canvas.draw()\n",
    "            image=np.frombuffer(fig.canvas.tostring_rgb(),dtype=np.uint8)\n",
    "            image=image.reshape(fig.canvas.get_width_height()[::-1] + (3,))\n",
    "            image=resize(image,(256,256,3))\n",
    "            x_data+=[image]\n",
    "            fig=plt.figure(frameon=False)\n",
    "            fig.set_size_inches(y / my_dpi, x / my_dpi)\n",
    "            ax = plt.Axes(fig, [0., 0., 1., 1.])\n",
    "            ax.set_axis_off()\n",
    "            fig.add_axes(ax)\n",
    "            black = np.zeros([x, fin - ini], dtype=curr_im.dtype)\n",
    "            ax.imshow(black, aspect='auto', cmap='gray')\n",
    "            ax.plot(curr_l1_0, 'w', aa=False   , linewidth=0.25)\n",
    "            ax.plot(curr_l1_1, 'w', aa=False, linewidth=0.25)\n",
    "            ax.plot(curr_l1_2, 'w', aa=False, linewidth=0.25)\n",
    "            fig.canvas.draw()\n",
    "            mask=np.frombuffer(fig.canvas.tostring_rgb(),dtype=np.uint8)\n",
    "            mask=mask.reshape(fig.canvas.get_width_height()[::-1] + (3,))\n",
    "            mask=resize(mask,(256,256,3))\n",
    "            y_data+=[mask]\n",
    "            plt.close('all')\n",
    "            count+=1\n",
    "x_train, y_train = np.array(x_data[:1600]), np.array(y_data[:1600])\n",
    "x_val, y_val = np.array(x_data[1600:1800]), np.array(y_data[1600:1800])\n",
    "x_test, y_test = np.array(x_data[1800:]), np.array(y_data[1800:])"
   ]
  },
  {
   "cell_type": "code",
   "execution_count": 3,
   "id": "92a3603d",
   "metadata": {
    "execution": {
     "iopub.execute_input": "2024-04-20T10:51:15.469372Z",
     "iopub.status.busy": "2024-04-20T10:51:15.468918Z",
     "iopub.status.idle": "2024-04-20T10:51:34.194473Z",
     "shell.execute_reply": "2024-04-20T10:51:34.191102Z"
    },
    "papermill": {
     "duration": 18.736862,
     "end_time": "2024-04-20T10:51:34.201459",
     "exception": false,
     "start_time": "2024-04-20T10:51:15.464597",
     "status": "completed"
    },
    "tags": []
   },
   "outputs": [],
   "source": [
    "np.save(\"x_train.npy\",x_train)\n",
    "np.save(\"y_train.npy\",y_train)\n",
    "\n",
    "np.save(\"x_val.npy\",x_val)\n",
    "np.save(\"y_val.npy\",x_val)\n",
    "\n",
    "np.save(\"x_test.npy\",x_test)\n",
    "np.save(\"y_test.npy\",x_test)"
   ]
  }
 ],
 "metadata": {
  "kaggle": {
   "accelerator": "none",
   "dataSources": [
    {
     "datasetId": 42587,
     "sourceId": 74010,
     "sourceType": "datasetVersion"
    }
   ],
   "isGpuEnabled": false,
   "isInternetEnabled": true,
   "language": "python",
   "sourceType": "notebook"
  },
  "kernelspec": {
   "display_name": "Python 3",
   "language": "python",
   "name": "python3"
  },
  "language_info": {
   "codemirror_mode": {
    "name": "ipython",
    "version": 3
   },
   "file_extension": ".py",
   "mimetype": "text/x-python",
   "name": "python",
   "nbconvert_exporter": "python",
   "pygments_lexer": "ipython3",
   "version": "3.10.13"
  },
  "papermill": {
   "default_parameters": {},
   "duration": 379.657901,
   "end_time": "2024-04-20T10:51:37.649226",
   "environment_variables": {},
   "exception": null,
   "input_path": "__notebook__.ipynb",
   "output_path": "__notebook__.ipynb",
   "parameters": {},
   "start_time": "2024-04-20T10:45:17.991325",
   "version": "2.5.0"
  },
  "widgets": {
   "application/vnd.jupyter.widget-state+json": {
    "state": {
     "5668a13e0a9c40358faace70b22ef0f0": {
      "model_module": "@jupyter-widgets/base",
      "model_module_version": "1.2.0",
      "model_name": "LayoutModel",
      "state": {
       "_model_module": "@jupyter-widgets/base",
       "_model_module_version": "1.2.0",
       "_model_name": "LayoutModel",
       "_view_count": null,
       "_view_module": "@jupyter-widgets/base",
       "_view_module_version": "1.2.0",
       "_view_name": "LayoutView",
       "align_content": null,
       "align_items": null,
       "align_self": null,
       "border": null,
       "bottom": null,
       "display": null,
       "flex": null,
       "flex_flow": null,
       "grid_area": null,
       "grid_auto_columns": null,
       "grid_auto_flow": null,
       "grid_auto_rows": null,
       "grid_column": null,
       "grid_gap": null,
       "grid_row": null,
       "grid_template_areas": null,
       "grid_template_columns": null,
       "grid_template_rows": null,
       "height": null,
       "justify_content": null,
       "justify_items": null,
       "left": null,
       "margin": null,
       "max_height": null,
       "max_width": null,
       "min_height": null,
       "min_width": null,
       "object_fit": null,
       "object_position": null,
       "order": null,
       "overflow": null,
       "overflow_x": null,
       "overflow_y": null,
       "padding": null,
       "right": null,
       "top": null,
       "visibility": null,
       "width": null
      }
     },
     "637afdaf58cc45afbafc7059c5961253": {
      "model_module": "@jupyter-widgets/controls",
      "model_module_version": "1.5.0",
      "model_name": "HBoxModel",
      "state": {
       "_dom_classes": [],
       "_model_module": "@jupyter-widgets/controls",
       "_model_module_version": "1.5.0",
       "_model_name": "HBoxModel",
       "_view_count": null,
       "_view_module": "@jupyter-widgets/controls",
       "_view_module_version": "1.5.0",
       "_view_name": "HBoxView",
       "box_style": "",
       "children": [
        "IPY_MODEL_f05f8af0c5134e60b1bd49d5a67adc96",
        "IPY_MODEL_6dc5215e585b4fafb84f3bfd20136d7d",
        "IPY_MODEL_a85032047f1849239e0cae60bafea142"
       ],
       "layout": "IPY_MODEL_5668a13e0a9c40358faace70b22ef0f0"
      }
     },
     "6dc5215e585b4fafb84f3bfd20136d7d": {
      "model_module": "@jupyter-widgets/controls",
      "model_module_version": "1.5.0",
      "model_name": "FloatProgressModel",
      "state": {
       "_dom_classes": [],
       "_model_module": "@jupyter-widgets/controls",
       "_model_module_version": "1.5.0",
       "_model_name": "FloatProgressModel",
       "_view_count": null,
       "_view_module": "@jupyter-widgets/controls",
       "_view_module_version": "1.5.0",
       "_view_name": "ProgressView",
       "bar_style": "danger",
       "description": "",
       "description_tooltip": null,
       "layout": "IPY_MODEL_e21324a332ed47fd980147122fb150c7",
       "max": 269.0,
       "min": 0.0,
       "orientation": "horizontal",
       "style": "IPY_MODEL_7f723d6cfead483aaf24de9082a013bf",
       "value": 39.0
      }
     },
     "710f86e40ab7410fbe0953667204d3c2": {
      "model_module": "@jupyter-widgets/controls",
      "model_module_version": "1.5.0",
      "model_name": "DescriptionStyleModel",
      "state": {
       "_model_module": "@jupyter-widgets/controls",
       "_model_module_version": "1.5.0",
       "_model_name": "DescriptionStyleModel",
       "_view_count": null,
       "_view_module": "@jupyter-widgets/base",
       "_view_module_version": "1.2.0",
       "_view_name": "StyleView",
       "description_width": ""
      }
     },
     "7f723d6cfead483aaf24de9082a013bf": {
      "model_module": "@jupyter-widgets/controls",
      "model_module_version": "1.5.0",
      "model_name": "ProgressStyleModel",
      "state": {
       "_model_module": "@jupyter-widgets/controls",
       "_model_module_version": "1.5.0",
       "_model_name": "ProgressStyleModel",
       "_view_count": null,
       "_view_module": "@jupyter-widgets/base",
       "_view_module_version": "1.2.0",
       "_view_name": "StyleView",
       "bar_color": null,
       "description_width": ""
      }
     },
     "a85032047f1849239e0cae60bafea142": {
      "model_module": "@jupyter-widgets/controls",
      "model_module_version": "1.5.0",
      "model_name": "HTMLModel",
      "state": {
       "_dom_classes": [],
       "_model_module": "@jupyter-widgets/controls",
       "_model_module_version": "1.5.0",
       "_model_name": "HTMLModel",
       "_view_count": null,
       "_view_module": "@jupyter-widgets/controls",
       "_view_module_version": "1.5.0",
       "_view_name": "HTMLView",
       "description": "",
       "description_tooltip": null,
       "layout": "IPY_MODEL_b65c8f9c724f4303934a857c8e0eb11b",
       "placeholder": "​",
       "style": "IPY_MODEL_e1bfe7ba545945b3ad811cf49a7f89a8",
       "value": " 39/269 [05:30&lt;28:47,  7.51s/it]"
      }
     },
     "b4069050f0674040964dafc009549aed": {
      "model_module": "@jupyter-widgets/base",
      "model_module_version": "1.2.0",
      "model_name": "LayoutModel",
      "state": {
       "_model_module": "@jupyter-widgets/base",
       "_model_module_version": "1.2.0",
       "_model_name": "LayoutModel",
       "_view_count": null,
       "_view_module": "@jupyter-widgets/base",
       "_view_module_version": "1.2.0",
       "_view_name": "LayoutView",
       "align_content": null,
       "align_items": null,
       "align_self": null,
       "border": null,
       "bottom": null,
       "display": null,
       "flex": null,
       "flex_flow": null,
       "grid_area": null,
       "grid_auto_columns": null,
       "grid_auto_flow": null,
       "grid_auto_rows": null,
       "grid_column": null,
       "grid_gap": null,
       "grid_row": null,
       "grid_template_areas": null,
       "grid_template_columns": null,
       "grid_template_rows": null,
       "height": null,
       "justify_content": null,
       "justify_items": null,
       "left": null,
       "margin": null,
       "max_height": null,
       "max_width": null,
       "min_height": null,
       "min_width": null,
       "object_fit": null,
       "object_position": null,
       "order": null,
       "overflow": null,
       "overflow_x": null,
       "overflow_y": null,
       "padding": null,
       "right": null,
       "top": null,
       "visibility": null,
       "width": null
      }
     },
     "b65c8f9c724f4303934a857c8e0eb11b": {
      "model_module": "@jupyter-widgets/base",
      "model_module_version": "1.2.0",
      "model_name": "LayoutModel",
      "state": {
       "_model_module": "@jupyter-widgets/base",
       "_model_module_version": "1.2.0",
       "_model_name": "LayoutModel",
       "_view_count": null,
       "_view_module": "@jupyter-widgets/base",
       "_view_module_version": "1.2.0",
       "_view_name": "LayoutView",
       "align_content": null,
       "align_items": null,
       "align_self": null,
       "border": null,
       "bottom": null,
       "display": null,
       "flex": null,
       "flex_flow": null,
       "grid_area": null,
       "grid_auto_columns": null,
       "grid_auto_flow": null,
       "grid_auto_rows": null,
       "grid_column": null,
       "grid_gap": null,
       "grid_row": null,
       "grid_template_areas": null,
       "grid_template_columns": null,
       "grid_template_rows": null,
       "height": null,
       "justify_content": null,
       "justify_items": null,
       "left": null,
       "margin": null,
       "max_height": null,
       "max_width": null,
       "min_height": null,
       "min_width": null,
       "object_fit": null,
       "object_position": null,
       "order": null,
       "overflow": null,
       "overflow_x": null,
       "overflow_y": null,
       "padding": null,
       "right": null,
       "top": null,
       "visibility": null,
       "width": null
      }
     },
     "e1bfe7ba545945b3ad811cf49a7f89a8": {
      "model_module": "@jupyter-widgets/controls",
      "model_module_version": "1.5.0",
      "model_name": "DescriptionStyleModel",
      "state": {
       "_model_module": "@jupyter-widgets/controls",
       "_model_module_version": "1.5.0",
       "_model_name": "DescriptionStyleModel",
       "_view_count": null,
       "_view_module": "@jupyter-widgets/base",
       "_view_module_version": "1.2.0",
       "_view_name": "StyleView",
       "description_width": ""
      }
     },
     "e21324a332ed47fd980147122fb150c7": {
      "model_module": "@jupyter-widgets/base",
      "model_module_version": "1.2.0",
      "model_name": "LayoutModel",
      "state": {
       "_model_module": "@jupyter-widgets/base",
       "_model_module_version": "1.2.0",
       "_model_name": "LayoutModel",
       "_view_count": null,
       "_view_module": "@jupyter-widgets/base",
       "_view_module_version": "1.2.0",
       "_view_name": "LayoutView",
       "align_content": null,
       "align_items": null,
       "align_self": null,
       "border": null,
       "bottom": null,
       "display": null,
       "flex": null,
       "flex_flow": null,
       "grid_area": null,
       "grid_auto_columns": null,
       "grid_auto_flow": null,
       "grid_auto_rows": null,
       "grid_column": null,
       "grid_gap": null,
       "grid_row": null,
       "grid_template_areas": null,
       "grid_template_columns": null,
       "grid_template_rows": null,
       "height": null,
       "justify_content": null,
       "justify_items": null,
       "left": null,
       "margin": null,
       "max_height": null,
       "max_width": null,
       "min_height": null,
       "min_width": null,
       "object_fit": null,
       "object_position": null,
       "order": null,
       "overflow": null,
       "overflow_x": null,
       "overflow_y": null,
       "padding": null,
       "right": null,
       "top": null,
       "visibility": null,
       "width": null
      }
     },
     "f05f8af0c5134e60b1bd49d5a67adc96": {
      "model_module": "@jupyter-widgets/controls",
      "model_module_version": "1.5.0",
      "model_name": "HTMLModel",
      "state": {
       "_dom_classes": [],
       "_model_module": "@jupyter-widgets/controls",
       "_model_module_version": "1.5.0",
       "_model_name": "HTMLModel",
       "_view_count": null,
       "_view_module": "@jupyter-widgets/controls",
       "_view_module_version": "1.5.0",
       "_view_name": "HTMLView",
       "description": "",
       "description_tooltip": null,
       "layout": "IPY_MODEL_b4069050f0674040964dafc009549aed",
       "placeholder": "​",
       "style": "IPY_MODEL_710f86e40ab7410fbe0953667204d3c2",
       "value": " 14%"
      }
     }
    },
    "version_major": 2,
    "version_minor": 0
   }
  }
 },
 "nbformat": 4,
 "nbformat_minor": 5
}
