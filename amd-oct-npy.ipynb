{
 "cells": [
  {
   "cell_type": "code",
   "execution_count": 1,
   "id": "7df55e84",
   "metadata": {
    "_cell_guid": "b1076dfc-b9ad-4769-8c92-a6c4dae69d19",
    "_uuid": "8f2839f25d086af736a60e9eeb907d3b93b6e0e5",
    "execution": {
     "iopub.execute_input": "2024-04-20T11:40:50.674811Z",
     "iopub.status.busy": "2024-04-20T11:40:50.674228Z",
     "iopub.status.idle": "2024-04-20T11:40:52.235189Z",
     "shell.execute_reply": "2024-04-20T11:40:52.233909Z"
    },
    "papermill": {
     "duration": 1.569114,
     "end_time": "2024-04-20T11:40:52.237731",
     "exception": false,
     "start_time": "2024-04-20T11:40:50.668617",
     "status": "completed"
    },
    "tags": []
   },
   "outputs": [],
   "source": [
    "import numpy as np # linear algebra\n",
    "import pandas as pd # data processing, CSV file I/O (e.g. pd.read_csv)\n",
    "import matplotlib.pyplot as plt\n",
    "import os\n",
    "from tqdm.notebook import tqdm\n",
    "import scipy\n",
    "from skimage.transform import resize"
   ]
  },
  {
   "cell_type": "code",
   "execution_count": 2,
   "id": "a5eed61a",
   "metadata": {
    "execution": {
     "iopub.execute_input": "2024-04-20T11:40:52.246940Z",
     "iopub.status.busy": "2024-04-20T11:40:52.246423Z",
     "iopub.status.idle": "2024-04-20T11:44:38.597389Z",
     "shell.execute_reply": "2024-04-20T11:44:38.596014Z"
    },
    "papermill": {
     "duration": 226.358151,
     "end_time": "2024-04-20T11:44:38.599822",
     "exception": false,
     "start_time": "2024-04-20T11:40:52.241671",
     "status": "completed"
    },
    "tags": []
   },
   "outputs": [
    {
     "data": {
      "application/vnd.jupyter.widget-view+json": {
       "model_id": "2300a48e7d834904a303f1603f6726bb",
       "version_major": 2,
       "version_minor": 0
      },
      "text/plain": [
       "  0%|          | 0/269 [00:00<?, ?it/s]"
      ]
     },
     "metadata": {},
     "output_type": "display_data"
    }
   ],
   "source": [
    "count=0\n",
    "x_data=[]\n",
    "y_data=[]\n",
    "path=\"/kaggle/input/farsiu-2014/AMD 2/AMD 2\"\n",
    "for file in tqdm(os.listdir(path)):\n",
    "    if count >= 2000:\n",
    "        break\n",
    "    mat=scipy.io.loadmat(os.path.join(path,file))\n",
    "    images=mat['images']\n",
    "    layers1 = mat['layerMaps']\n",
    "    # img=img.reshape(256,256,3)\n",
    "    x, y, nimages = images.shape\n",
    "    step = 4\n",
    "    my_dpi=200\n",
    "    ini = int(y / step)\n",
    "    fin = int(ini * (step - 1))\n",
    "    thr = fin - ini - 1\n",
    "    for i in range(100):\n",
    "        curr_im = images[:, ini:fin, i]\n",
    "        curr_l1_0 = layers1[i, ini:fin, 0]\n",
    "        curr_l1_1 = layers1[i, ini:fin, 1]\n",
    "        curr_l1_2 = layers1[i, ini:fin, 2]\n",
    "        cn0 = np.count_nonzero(~np.isnan(curr_l1_0))\n",
    "        cn1 = np.count_nonzero(~np.isnan(curr_l1_1))\n",
    "        cn2 = np.count_nonzero(~np.isnan(curr_l1_2))\n",
    "        # print(img.shape)\n",
    "        flag = ((cn0 > thr) and (cn1 > thr) and (cn2 > thr))\n",
    "        if flag:\n",
    "            if count >= 2000:\n",
    "                break\n",
    "            fig = plt.figure(frameon=False)\n",
    "            fig.set_size_inches(y / my_dpi, x / my_dpi)\n",
    "            ax = plt.Axes(fig, [0., 0., 1., 1.])\n",
    "            ax.set_axis_off()\n",
    "            fig.add_axes(ax)\n",
    "            ax.imshow(curr_im, aspect='auto', cmap='gray')\n",
    "            fig.canvas.draw()\n",
    "            image=np.frombuffer(fig.canvas.tostring_rgb(),dtype=np.uint8)\n",
    "            image=image.reshape(fig.canvas.get_width_height()[::-1] + (3,))\n",
    "            image=resize(image,(256,256,3))\n",
    "            x_data+=[image]\n",
    "            fig=plt.figure(frameon=False)\n",
    "            fig.set_size_inches(y / my_dpi, x / my_dpi)\n",
    "            ax = plt.Axes(fig, [0., 0., 1., 1.])\n",
    "            ax.set_axis_off()\n",
    "            fig.add_axes(ax)\n",
    "            black = np.zeros([x, fin - ini], dtype=curr_im.dtype)\n",
    "            ax.imshow(black, aspect='auto', cmap='gray')\n",
    "            ax.plot(curr_l1_0, 'w', aa=False   , linewidth=0.25)\n",
    "            ax.plot(curr_l1_1, 'w', aa=False, linewidth=0.25)\n",
    "            ax.plot(curr_l1_2, 'w', aa=False, linewidth=0.25)\n",
    "            fig.canvas.draw()\n",
    "            mask=np.frombuffer(fig.canvas.tostring_rgb(),dtype=np.uint8)\n",
    "            mask=mask.reshape(fig.canvas.get_width_height()[::-1] + (3,))\n",
    "            mask=resize(mask,(256,256,3))\n",
    "            y_data+=[mask]\n",
    "            plt.close('all')\n",
    "            count+=1\n",
    "x_train, y_train = np.array(x_data[:1600]), np.array(y_data[:1600])\n",
    "x_val, y_val = np.array(x_data[1600:1800]), np.array(y_data[1600:1800])\n",
    "x_test, y_test = np.array(x_data[1800:]), np.array(y_data[1800:])"
   ]
  },
  {
   "cell_type": "code",
   "execution_count": 3,
   "id": "d9f0f878",
   "metadata": {
    "execution": {
     "iopub.execute_input": "2024-04-20T11:44:38.608691Z",
     "iopub.status.busy": "2024-04-20T11:44:38.608294Z",
     "iopub.status.idle": "2024-04-20T11:44:38.616996Z",
     "shell.execute_reply": "2024-04-20T11:44:38.616123Z"
    },
    "papermill": {
     "duration": 0.015556,
     "end_time": "2024-04-20T11:44:38.619017",
     "exception": false,
     "start_time": "2024-04-20T11:44:38.603461",
     "status": "completed"
    },
    "tags": []
   },
   "outputs": [
    {
     "data": {
      "text/plain": [
       "(1600, 256, 256, 3)"
      ]
     },
     "execution_count": 3,
     "metadata": {},
     "output_type": "execute_result"
    }
   ],
   "source": [
    "x_train.shape"
   ]
  },
  {
   "cell_type": "code",
   "execution_count": 4,
   "id": "536554bd",
   "metadata": {
    "execution": {
     "iopub.execute_input": "2024-04-20T11:44:38.627242Z",
     "iopub.status.busy": "2024-04-20T11:44:38.626939Z",
     "iopub.status.idle": "2024-04-20T11:44:38.633018Z",
     "shell.execute_reply": "2024-04-20T11:44:38.631726Z"
    },
    "papermill": {
     "duration": 0.012837,
     "end_time": "2024-04-20T11:44:38.635537",
     "exception": false,
     "start_time": "2024-04-20T11:44:38.622700",
     "status": "completed"
    },
    "tags": []
   },
   "outputs": [
    {
     "data": {
      "text/plain": [
       "(200, 256, 256, 3)"
      ]
     },
     "execution_count": 4,
     "metadata": {},
     "output_type": "execute_result"
    }
   ],
   "source": [
    "x_val.shape"
   ]
  },
  {
   "cell_type": "code",
   "execution_count": 5,
   "id": "bffb6855",
   "metadata": {
    "execution": {
     "iopub.execute_input": "2024-04-20T11:44:38.645474Z",
     "iopub.status.busy": "2024-04-20T11:44:38.644988Z",
     "iopub.status.idle": "2024-04-20T11:44:38.651390Z",
     "shell.execute_reply": "2024-04-20T11:44:38.650530Z"
    },
    "papermill": {
     "duration": 0.01382,
     "end_time": "2024-04-20T11:44:38.653152",
     "exception": false,
     "start_time": "2024-04-20T11:44:38.639332",
     "status": "completed"
    },
    "tags": []
   },
   "outputs": [
    {
     "data": {
      "text/plain": [
       "(200, 256, 256, 3)"
      ]
     },
     "execution_count": 5,
     "metadata": {},
     "output_type": "execute_result"
    }
   ],
   "source": [
    "x_test.shape"
   ]
  },
  {
   "cell_type": "code",
   "execution_count": 6,
   "id": "334c8864",
   "metadata": {
    "execution": {
     "iopub.execute_input": "2024-04-20T11:44:38.662525Z",
     "iopub.status.busy": "2024-04-20T11:44:38.662115Z",
     "iopub.status.idle": "2024-04-20T11:44:38.666101Z",
     "shell.execute_reply": "2024-04-20T11:44:38.665272Z"
    },
    "papermill": {
     "duration": 0.010544,
     "end_time": "2024-04-20T11:44:38.667657",
     "exception": false,
     "start_time": "2024-04-20T11:44:38.657113",
     "status": "completed"
    },
    "tags": []
   },
   "outputs": [],
   "source": [
    "from _pickle import Pickler"
   ]
  },
  {
   "cell_type": "code",
   "execution_count": 7,
   "id": "0a921960",
   "metadata": {
    "execution": {
     "iopub.execute_input": "2024-04-20T11:44:38.677962Z",
     "iopub.status.busy": "2024-04-20T11:44:38.677573Z",
     "iopub.status.idle": "2024-04-20T11:44:42.110315Z",
     "shell.execute_reply": "2024-04-20T11:44:42.108581Z"
    },
    "papermill": {
     "duration": 3.44112,
     "end_time": "2024-04-20T11:44:42.112566",
     "exception": false,
     "start_time": "2024-04-20T11:44:38.671446",
     "status": "completed"
    },
    "tags": []
   },
   "outputs": [],
   "source": [
    "file = open(\"x_train.pickle\",\"wb\")\n",
    "Pickler(file).dump(x_train)"
   ]
  },
  {
   "cell_type": "code",
   "execution_count": 8,
   "id": "0323a680",
   "metadata": {
    "execution": {
     "iopub.execute_input": "2024-04-20T11:44:42.122906Z",
     "iopub.status.busy": "2024-04-20T11:44:42.122557Z",
     "iopub.status.idle": "2024-04-20T11:44:53.851739Z",
     "shell.execute_reply": "2024-04-20T11:44:53.850813Z"
    },
    "papermill": {
     "duration": 11.736519,
     "end_time": "2024-04-20T11:44:53.854280",
     "exception": false,
     "start_time": "2024-04-20T11:44:42.117761",
     "status": "completed"
    },
    "tags": []
   },
   "outputs": [],
   "source": [
    "file = open(\"y_train.pickle\",\"wb\")\n",
    "Pickler(file).dump(y_train)"
   ]
  },
  {
   "cell_type": "code",
   "execution_count": 9,
   "id": "0bafeb60",
   "metadata": {
    "execution": {
     "iopub.execute_input": "2024-04-20T11:44:53.911719Z",
     "iopub.status.busy": "2024-04-20T11:44:53.911208Z",
     "iopub.status.idle": "2024-04-20T11:44:54.490284Z",
     "shell.execute_reply": "2024-04-20T11:44:54.489402Z"
    },
    "papermill": {
     "duration": 0.611399,
     "end_time": "2024-04-20T11:44:54.492605",
     "exception": false,
     "start_time": "2024-04-20T11:44:53.881206",
     "status": "completed"
    },
    "tags": []
   },
   "outputs": [],
   "source": [
    "file = open(\"x_val.pickle\",\"wb\")\n",
    "Pickler(file).dump(x_val)"
   ]
  },
  {
   "cell_type": "code",
   "execution_count": 10,
   "id": "3d38e019",
   "metadata": {
    "execution": {
     "iopub.execute_input": "2024-04-20T11:44:54.501963Z",
     "iopub.status.busy": "2024-04-20T11:44:54.501600Z",
     "iopub.status.idle": "2024-04-20T11:44:54.967964Z",
     "shell.execute_reply": "2024-04-20T11:44:54.966815Z"
    },
    "papermill": {
     "duration": 0.47391,
     "end_time": "2024-04-20T11:44:54.970580",
     "exception": false,
     "start_time": "2024-04-20T11:44:54.496670",
     "status": "completed"
    },
    "tags": []
   },
   "outputs": [],
   "source": [
    "file = open(\"y_val.pickle\",\"wb\")\n",
    "Pickler(file).dump(y_val)"
   ]
  },
  {
   "cell_type": "code",
   "execution_count": 11,
   "id": "8621a93d",
   "metadata": {
    "execution": {
     "iopub.execute_input": "2024-04-20T11:44:54.979813Z",
     "iopub.status.busy": "2024-04-20T11:44:54.979483Z",
     "iopub.status.idle": "2024-04-20T11:44:55.402635Z",
     "shell.execute_reply": "2024-04-20T11:44:55.401718Z"
    },
    "papermill": {
     "duration": 0.430421,
     "end_time": "2024-04-20T11:44:55.404991",
     "exception": false,
     "start_time": "2024-04-20T11:44:54.974570",
     "status": "completed"
    },
    "tags": []
   },
   "outputs": [],
   "source": [
    "file = open(\"x_test.pickle\",\"wb\")\n",
    "Pickler(file).dump(x_test)"
   ]
  },
  {
   "cell_type": "code",
   "execution_count": 12,
   "id": "a08da435",
   "metadata": {
    "execution": {
     "iopub.execute_input": "2024-04-20T11:44:55.414562Z",
     "iopub.status.busy": "2024-04-20T11:44:55.413678Z",
     "iopub.status.idle": "2024-04-20T11:44:55.812528Z",
     "shell.execute_reply": "2024-04-20T11:44:55.811486Z"
    },
    "papermill": {
     "duration": 0.405736,
     "end_time": "2024-04-20T11:44:55.814670",
     "exception": false,
     "start_time": "2024-04-20T11:44:55.408934",
     "status": "completed"
    },
    "tags": []
   },
   "outputs": [],
   "source": [
    "file = open(\"y_test.pickle\",\"wb\")\n",
    "Pickler(file).dump(y_test)"
   ]
  },
  {
   "cell_type": "code",
   "execution_count": null,
   "id": "ed6228b2",
   "metadata": {
    "papermill": {
     "duration": 0.003391,
     "end_time": "2024-04-20T11:44:55.821972",
     "exception": false,
     "start_time": "2024-04-20T11:44:55.818581",
     "status": "completed"
    },
    "tags": []
   },
   "outputs": [],
   "source": []
  }
 ],
 "metadata": {
  "kaggle": {
   "accelerator": "none",
   "dataSources": [
    {
     "datasetId": 42587,
     "sourceId": 74010,
     "sourceType": "datasetVersion"
    }
   ],
   "dockerImageVersionId": 30698,
   "isGpuEnabled": false,
   "isInternetEnabled": true,
   "language": "python",
   "sourceType": "notebook"
  },
  "kernelspec": {
   "display_name": "Python 3",
   "language": "python",
   "name": "python3"
  },
  "language_info": {
   "codemirror_mode": {
    "name": "ipython",
    "version": 3
   },
   "file_extension": ".py",
   "mimetype": "text/x-python",
   "name": "python",
   "nbconvert_exporter": "python",
   "pygments_lexer": "ipython3",
   "version": "3.10.13"
  },
  "papermill": {
   "default_parameters": {},
   "duration": 250.918765,
   "end_time": "2024-04-20T11:44:58.960900",
   "environment_variables": {},
   "exception": null,
   "input_path": "__notebook__.ipynb",
   "output_path": "__notebook__.ipynb",
   "parameters": {},
   "start_time": "2024-04-20T11:40:48.042135",
   "version": "2.5.0"
  },
  "widgets": {
   "application/vnd.jupyter.widget-state+json": {
    "state": {
     "17a2291ab7d343568418a94a3ca25cb2": {
      "model_module": "@jupyter-widgets/controls",
      "model_module_version": "1.5.0",
      "model_name": "FloatProgressModel",
      "state": {
       "_dom_classes": [],
       "_model_module": "@jupyter-widgets/controls",
       "_model_module_version": "1.5.0",
       "_model_name": "FloatProgressModel",
       "_view_count": null,
       "_view_module": "@jupyter-widgets/controls",
       "_view_module_version": "1.5.0",
       "_view_name": "ProgressView",
       "bar_style": "danger",
       "description": "",
       "description_tooltip": null,
       "layout": "IPY_MODEL_48b38b00cc074887af56df317f852dbe",
       "max": 269.0,
       "min": 0.0,
       "orientation": "horizontal",
       "style": "IPY_MODEL_3c98447057bc4d229e9cfe714e0b638b",
       "value": 39.0
      }
     },
     "2300a48e7d834904a303f1603f6726bb": {
      "model_module": "@jupyter-widgets/controls",
      "model_module_version": "1.5.0",
      "model_name": "HBoxModel",
      "state": {
       "_dom_classes": [],
       "_model_module": "@jupyter-widgets/controls",
       "_model_module_version": "1.5.0",
       "_model_name": "HBoxModel",
       "_view_count": null,
       "_view_module": "@jupyter-widgets/controls",
       "_view_module_version": "1.5.0",
       "_view_name": "HBoxView",
       "box_style": "",
       "children": [
        "IPY_MODEL_ca6550a218fe46b2a5948353ba08183f",
        "IPY_MODEL_17a2291ab7d343568418a94a3ca25cb2",
        "IPY_MODEL_be4ffb1d56dc47a1837d86a54c500b2c"
       ],
       "layout": "IPY_MODEL_25f93b48380246ebb9365ed7a5170483"
      }
     },
     "25f93b48380246ebb9365ed7a5170483": {
      "model_module": "@jupyter-widgets/base",
      "model_module_version": "1.2.0",
      "model_name": "LayoutModel",
      "state": {
       "_model_module": "@jupyter-widgets/base",
       "_model_module_version": "1.2.0",
       "_model_name": "LayoutModel",
       "_view_count": null,
       "_view_module": "@jupyter-widgets/base",
       "_view_module_version": "1.2.0",
       "_view_name": "LayoutView",
       "align_content": null,
       "align_items": null,
       "align_self": null,
       "border": null,
       "bottom": null,
       "display": null,
       "flex": null,
       "flex_flow": null,
       "grid_area": null,
       "grid_auto_columns": null,
       "grid_auto_flow": null,
       "grid_auto_rows": null,
       "grid_column": null,
       "grid_gap": null,
       "grid_row": null,
       "grid_template_areas": null,
       "grid_template_columns": null,
       "grid_template_rows": null,
       "height": null,
       "justify_content": null,
       "justify_items": null,
       "left": null,
       "margin": null,
       "max_height": null,
       "max_width": null,
       "min_height": null,
       "min_width": null,
       "object_fit": null,
       "object_position": null,
       "order": null,
       "overflow": null,
       "overflow_x": null,
       "overflow_y": null,
       "padding": null,
       "right": null,
       "top": null,
       "visibility": null,
       "width": null
      }
     },
     "3c98447057bc4d229e9cfe714e0b638b": {
      "model_module": "@jupyter-widgets/controls",
      "model_module_version": "1.5.0",
      "model_name": "ProgressStyleModel",
      "state": {
       "_model_module": "@jupyter-widgets/controls",
       "_model_module_version": "1.5.0",
       "_model_name": "ProgressStyleModel",
       "_view_count": null,
       "_view_module": "@jupyter-widgets/base",
       "_view_module_version": "1.2.0",
       "_view_name": "StyleView",
       "bar_color": null,
       "description_width": ""
      }
     },
     "48b38b00cc074887af56df317f852dbe": {
      "model_module": "@jupyter-widgets/base",
      "model_module_version": "1.2.0",
      "model_name": "LayoutModel",
      "state": {
       "_model_module": "@jupyter-widgets/base",
       "_model_module_version": "1.2.0",
       "_model_name": "LayoutModel",
       "_view_count": null,
       "_view_module": "@jupyter-widgets/base",
       "_view_module_version": "1.2.0",
       "_view_name": "LayoutView",
       "align_content": null,
       "align_items": null,
       "align_self": null,
       "border": null,
       "bottom": null,
       "display": null,
       "flex": null,
       "flex_flow": null,
       "grid_area": null,
       "grid_auto_columns": null,
       "grid_auto_flow": null,
       "grid_auto_rows": null,
       "grid_column": null,
       "grid_gap": null,
       "grid_row": null,
       "grid_template_areas": null,
       "grid_template_columns": null,
       "grid_template_rows": null,
       "height": null,
       "justify_content": null,
       "justify_items": null,
       "left": null,
       "margin": null,
       "max_height": null,
       "max_width": null,
       "min_height": null,
       "min_width": null,
       "object_fit": null,
       "object_position": null,
       "order": null,
       "overflow": null,
       "overflow_x": null,
       "overflow_y": null,
       "padding": null,
       "right": null,
       "top": null,
       "visibility": null,
       "width": null
      }
     },
     "697e6386f78347eb9998614f38d3acea": {
      "model_module": "@jupyter-widgets/controls",
      "model_module_version": "1.5.0",
      "model_name": "DescriptionStyleModel",
      "state": {
       "_model_module": "@jupyter-widgets/controls",
       "_model_module_version": "1.5.0",
       "_model_name": "DescriptionStyleModel",
       "_view_count": null,
       "_view_module": "@jupyter-widgets/base",
       "_view_module_version": "1.2.0",
       "_view_name": "StyleView",
       "description_width": ""
      }
     },
     "8769ef2460334d8591ffb2d1d27f85e4": {
      "model_module": "@jupyter-widgets/base",
      "model_module_version": "1.2.0",
      "model_name": "LayoutModel",
      "state": {
       "_model_module": "@jupyter-widgets/base",
       "_model_module_version": "1.2.0",
       "_model_name": "LayoutModel",
       "_view_count": null,
       "_view_module": "@jupyter-widgets/base",
       "_view_module_version": "1.2.0",
       "_view_name": "LayoutView",
       "align_content": null,
       "align_items": null,
       "align_self": null,
       "border": null,
       "bottom": null,
       "display": null,
       "flex": null,
       "flex_flow": null,
       "grid_area": null,
       "grid_auto_columns": null,
       "grid_auto_flow": null,
       "grid_auto_rows": null,
       "grid_column": null,
       "grid_gap": null,
       "grid_row": null,
       "grid_template_areas": null,
       "grid_template_columns": null,
       "grid_template_rows": null,
       "height": null,
       "justify_content": null,
       "justify_items": null,
       "left": null,
       "margin": null,
       "max_height": null,
       "max_width": null,
       "min_height": null,
       "min_width": null,
       "object_fit": null,
       "object_position": null,
       "order": null,
       "overflow": null,
       "overflow_x": null,
       "overflow_y": null,
       "padding": null,
       "right": null,
       "top": null,
       "visibility": null,
       "width": null
      }
     },
     "a6397947fe354913981589a0e837d901": {
      "model_module": "@jupyter-widgets/base",
      "model_module_version": "1.2.0",
      "model_name": "LayoutModel",
      "state": {
       "_model_module": "@jupyter-widgets/base",
       "_model_module_version": "1.2.0",
       "_model_name": "LayoutModel",
       "_view_count": null,
       "_view_module": "@jupyter-widgets/base",
       "_view_module_version": "1.2.0",
       "_view_name": "LayoutView",
       "align_content": null,
       "align_items": null,
       "align_self": null,
       "border": null,
       "bottom": null,
       "display": null,
       "flex": null,
       "flex_flow": null,
       "grid_area": null,
       "grid_auto_columns": null,
       "grid_auto_flow": null,
       "grid_auto_rows": null,
       "grid_column": null,
       "grid_gap": null,
       "grid_row": null,
       "grid_template_areas": null,
       "grid_template_columns": null,
       "grid_template_rows": null,
       "height": null,
       "justify_content": null,
       "justify_items": null,
       "left": null,
       "margin": null,
       "max_height": null,
       "max_width": null,
       "min_height": null,
       "min_width": null,
       "object_fit": null,
       "object_position": null,
       "order": null,
       "overflow": null,
       "overflow_x": null,
       "overflow_y": null,
       "padding": null,
       "right": null,
       "top": null,
       "visibility": null,
       "width": null
      }
     },
     "be4ffb1d56dc47a1837d86a54c500b2c": {
      "model_module": "@jupyter-widgets/controls",
      "model_module_version": "1.5.0",
      "model_name": "HTMLModel",
      "state": {
       "_dom_classes": [],
       "_model_module": "@jupyter-widgets/controls",
       "_model_module_version": "1.5.0",
       "_model_name": "HTMLModel",
       "_view_count": null,
       "_view_module": "@jupyter-widgets/controls",
       "_view_module_version": "1.5.0",
       "_view_name": "HTMLView",
       "description": "",
       "description_tooltip": null,
       "layout": "IPY_MODEL_a6397947fe354913981589a0e837d901",
       "placeholder": "​",
       "style": "IPY_MODEL_697e6386f78347eb9998614f38d3acea",
       "value": " 39/269 [03:45&lt;19:26,  5.07s/it]"
      }
     },
     "ca6550a218fe46b2a5948353ba08183f": {
      "model_module": "@jupyter-widgets/controls",
      "model_module_version": "1.5.0",
      "model_name": "HTMLModel",
      "state": {
       "_dom_classes": [],
       "_model_module": "@jupyter-widgets/controls",
       "_model_module_version": "1.5.0",
       "_model_name": "HTMLModel",
       "_view_count": null,
       "_view_module": "@jupyter-widgets/controls",
       "_view_module_version": "1.5.0",
       "_view_name": "HTMLView",
       "description": "",
       "description_tooltip": null,
       "layout": "IPY_MODEL_8769ef2460334d8591ffb2d1d27f85e4",
       "placeholder": "​",
       "style": "IPY_MODEL_f47d032a36bc4bf1acbfeb303c766b12",
       "value": " 14%"
      }
     },
     "f47d032a36bc4bf1acbfeb303c766b12": {
      "model_module": "@jupyter-widgets/controls",
      "model_module_version": "1.5.0",
      "model_name": "DescriptionStyleModel",
      "state": {
       "_model_module": "@jupyter-widgets/controls",
       "_model_module_version": "1.5.0",
       "_model_name": "DescriptionStyleModel",
       "_view_count": null,
       "_view_module": "@jupyter-widgets/base",
       "_view_module_version": "1.2.0",
       "_view_name": "StyleView",
       "description_width": ""
      }
     }
    },
    "version_major": 2,
    "version_minor": 0
   }
  }
 },
 "nbformat": 4,
 "nbformat_minor": 5
}
